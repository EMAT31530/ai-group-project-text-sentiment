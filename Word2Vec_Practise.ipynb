{
 "cells": [
  {
   "cell_type": "code",
   "execution_count": 7,
   "metadata": {},
   "outputs": [],
   "source": [
    "import pandas as pd\n",
    "import numpy as np\n",
    "import matplotlib as plt\n",
    "import string\n",
    "import nltk\n",
    "import csv\n",
    "\n",
    "from nltk.tokenize import RegexpTokenizer\n",
    "from nltk.corpus import stopwords\n",
    "\n",
    "#nltk.download('stopwords')"
   ]
  },
  {
   "cell_type": "code",
   "execution_count": 2,
   "metadata": {},
   "outputs": [],
   "source": [
    "############# Convert txt file to csv ##############\n",
    "\n",
    "#Positive tweets\n",
    "headers = ['Tweet','Sentiment']\n",
    "df = pd.read_fwf('Datasets/train_pos.txt')\n",
    "df['new_column'] = '1'\n",
    "df.to_csv('Datasets/TrainPos.csv', header = headers, index = False)\n",
    "\n",
    "#Negative tweets\n",
    "df = pd.read_fwf('Datasets/train_neg.txt')\n",
    "df['new_column'] = '-1'\n",
    "df.to_csv('Datasets/TrainNeg.csv', header = None, index = False)\n",
    "\n",
    "\n",
    "############### Combining Both Files Together ###############\n",
    "\n",
    "PosReader = csv.reader(open(\"Datasets/TrainPos.csv\"))\n",
    "NegReader = csv.reader(open(\"Datasets/TrainNeg.csv\"))\n",
    "f = open(\"Datasets/FullTrain.csv\", \"w\")\n",
    "writer = csv.writer(f)\n",
    "\n",
    "for row in PosReader:\n",
    "    writer.writerow(row)\n",
    "for row in NegReader:\n",
    "    writer.writerow(row)\n",
    "f.close()"
   ]
  },
  {
   "cell_type": "code",
   "execution_count": 8,
   "metadata": {},
   "outputs": [
    {
     "data": {
      "text/html": [
       "<div>\n",
       "<style scoped>\n",
       "    .dataframe tbody tr th:only-of-type {\n",
       "        vertical-align: middle;\n",
       "    }\n",
       "\n",
       "    .dataframe tbody tr th {\n",
       "        vertical-align: top;\n",
       "    }\n",
       "\n",
       "    .dataframe thead th {\n",
       "        text-align: right;\n",
       "    }\n",
       "</style>\n",
       "<table border=\"1\" class=\"dataframe\">\n",
       "  <thead>\n",
       "    <tr style=\"text-align: right;\">\n",
       "      <th></th>\n",
       "      <th>Tweet</th>\n",
       "      <th>Sentiment</th>\n",
       "    </tr>\n",
       "  </thead>\n",
       "  <tbody>\n",
       "    <tr>\n",
       "      <th>0</th>\n",
       "      <td>because your logic is so dumb , i won't even c...</td>\n",
       "      <td>1</td>\n",
       "    </tr>\n",
       "    <tr>\n",
       "      <th>1</th>\n",
       "      <td>\" &lt;user&gt; just put casper in a box ! \" looved t...</td>\n",
       "      <td>1</td>\n",
       "    </tr>\n",
       "    <tr>\n",
       "      <th>2</th>\n",
       "      <td>&lt;user&gt; &lt;user&gt; thanks sir &gt; &gt; don't trip lil ma...</td>\n",
       "      <td>1</td>\n",
       "    </tr>\n",
       "    <tr>\n",
       "      <th>3</th>\n",
       "      <td>visiting my brother tmr is the bestest birthda...</td>\n",
       "      <td>1</td>\n",
       "    </tr>\n",
       "    <tr>\n",
       "      <th>4</th>\n",
       "      <td>&lt;user&gt; yay ! ! #lifecompleted . tweet / facebo...</td>\n",
       "      <td>1</td>\n",
       "    </tr>\n",
       "  </tbody>\n",
       "</table>\n",
       "</div>"
      ],
      "text/plain": [
       "                                               Tweet  Sentiment\n",
       "0  because your logic is so dumb , i won't even c...          1\n",
       "1  \" <user> just put casper in a box ! \" looved t...          1\n",
       "2  <user> <user> thanks sir > > don't trip lil ma...          1\n",
       "3  visiting my brother tmr is the bestest birthda...          1\n",
       "4  <user> yay ! ! #lifecompleted . tweet / facebo...          1"
      ]
     },
     "execution_count": 8,
     "metadata": {},
     "output_type": "execute_result"
    }
   ],
   "source": [
    "#Create dataframe and store the data from FullTrain.csv\n",
    "\n",
    "data = pd.DataFrame()\n",
    "data = pd.read_csv('Datasets/FullTrain.csv', encoding = 'utf-8')\n",
    "data.head()"
   ]
  },
  {
   "cell_type": "code",
   "execution_count": 4,
   "metadata": {},
   "outputs": [
    {
     "data": {
      "text/plain": [
       "(199998, 2)"
      ]
     },
     "execution_count": 4,
     "metadata": {},
     "output_type": "execute_result"
    }
   ],
   "source": [
    "data.shape"
   ]
  },
  {
   "cell_type": "code",
   "execution_count": 4,
   "metadata": {},
   "outputs": [
    {
     "data": {
      "text/plain": [
       "<matplotlib.axes._subplots.AxesSubplot at 0x7ffdb47e7f98>"
      ]
     },
     "execution_count": 4,
     "metadata": {},
     "output_type": "execute_result"
    },
    {
     "data": {
      "image/png": "[encoded data removed]",
      "text/plain": [
       "<Figure size 432x288 with 1 Axes>"
      ]
     },
     "metadata": {
      "needs_background": "light"
     },
     "output_type": "display_data"
    }
   ],
   "source": [
    "# to see the distribution of the sentiments of the data\n",
    "\n",
    "%matplotlib inline\n",
    "\n",
    "data['Sentiment'].value_counts().plot(kind='bar')"
   ]
  },
  {
   "cell_type": "code",
   "execution_count": 9,
   "metadata": {},
   "outputs": [],
   "source": [
    "#create empty list\n",
    "tweet_data_list = []\n",
    "\n",
    "indv_lines = data['Tweet'].values.tolist()\n",
    "for line in indv_lines:\n",
    "    \n",
    "    #create word tokens as well as remove punctuation in one go\n",
    "    rem_tok_punc = RegexpTokenizer(r'\\w+')\n",
    "    \n",
    "    tokens = rem_tok_punc.tokenize(line)\n",
    "    \n",
    "    #convert the words to lower case\n",
    "    words = [w.lower() for w in tokens]\n",
    "    \n",
    "    #invoke all the English stopwords\n",
    "    stop_word_list = set(stopwords.words('english'))\n",
    "    \n",
    "    #remove stop words\n",
    "    words = [w for w in words if not w in stop_word_list]\n",
    "    \n",
    "    #remove <user> and <url>\n",
    "    useless = ['user', 'url']\n",
    "    words = [w for w in words if not w in useless]\n",
    "    \n",
    "    #append words in the tweet_data_list list\n",
    "    tweet_data_list.append(words)"
   ]
  },
  {
   "cell_type": "code",
   "execution_count": 20,
   "metadata": {},
   "outputs": [
    {
     "name": "stdout",
     "output_type": "stream",
     "text": [
      "199998\n"
     ]
    }
   ],
   "source": [
    "print(len(tweet_data_list))"
   ]
  },
  {
   "cell_type": "code",
   "execution_count": 10,
   "metadata": {},
   "outputs": [],
   "source": [
    "from gensim.models import Word2Vec\n",
    "\n",
    "EmbeddingDim = 100\n",
    "\n",
    "#train Word2Vec model\n",
    "model = Word2Vec(sentences = tweet_data_list, size = EmbeddingDim, workers = 4, min_count = 1)"
   ]
  },
  {
   "cell_type": "code",
   "execution_count": 11,
   "metadata": {},
   "outputs": [
    {
     "data": {
      "text/plain": [
       "[('thursday', 0.9736646413803101),\n",
       " ('saturday', 0.957131028175354),\n",
       " ('sunday', 0.9545120596885681),\n",
       " ('wednesday', 0.9517480134963989),\n",
       " ('monday', 0.9513176679611206),\n",
       " ('tuesday', 0.9479730129241943),\n",
       " ('nodejsatmicrosoftsvc', 0.9247142672538757),\n",
       " ('yay', 0.918641209602356),\n",
       " ('weekend', 0.9159681797027588),\n",
       " ('dreading', 0.911535918712616)]"
      ]
     },
     "execution_count": 11,
     "metadata": {},
     "output_type": "execute_result"
    }
   ],
   "source": [
    "#Finding similar words\n",
    "model.wv.most_similar('friday')"
   ]
  },
  {
   "cell_type": "code",
   "execution_count": 12,
   "metadata": {},
   "outputs": [
    {
     "data": {
      "text/plain": [
       "[('smirnoff', 0.9496944546699524),\n",
       " ('ricta', 0.9405534863471985),\n",
       " ('heck', 0.9374890923500061),\n",
       " ('luongo', 0.9374774098396301),\n",
       " ('rght', 0.9323857426643372),\n",
       " ('whatchu', 0.931296706199646),\n",
       " ('outfit', 0.9290794730186462),\n",
       " ('jordans', 0.9276304841041565),\n",
       " ('humdado', 0.9273326396942139),\n",
       " ('werk', 0.9268401265144348)]"
      ]
     },
     "execution_count": 12,
     "metadata": {},
     "output_type": "execute_result"
    }
   ],
   "source": [
    "#Performing some mathematics on word vectors queen + man - woman = ?\n",
    "model.wv.most_similar_cosmul(positive=['queen','man'], negative=['woman'])"
   ]
  },
  {
   "cell_type": "code",
   "execution_count": 24,
   "metadata": {},
   "outputs": [
    {
     "name": "stdout",
     "output_type": "stream",
     "text": [
      "car\n"
     ]
    },
    {
     "name": "stderr",
     "output_type": "stream",
     "text": [
      "/Users/victoriaadcock/anaconda3/lib/python3.7/site-packages/gensim/models/keyedvectors.py:877: FutureWarning: arrays to stack must be passed as a \"sequence\" type such as list or tuple. Support for non-sequence iterables such as generators is deprecated as of NumPy 1.16 and will raise an error in the future.\n",
      "  vectors = vstack(self.word_vec(word, use_norm=True) for word in used_words).astype(REAL)\n"
     ]
    }
   ],
   "source": [
    "#Finding the odd word out from the list of words given\n",
    "print(model.wv.doesnt_match(\"man woman car\".split()))"
   ]
  },
  {
   "cell_type": "code",
   "execution_count": 13,
   "metadata": {},
   "outputs": [],
   "source": [
    "# Importing bokeh libraries for showing how words of similar context are grouped together\n",
    "import bokeh.plotting as bp\n",
    "from bokeh.models import HoverTool, BoxSelectTool\n",
    "from bokeh.plotting import figure, show, output_notebook"
   ]
  },
  {
   "cell_type": "code",
   "execution_count": 14,
   "metadata": {},
   "outputs": [
    {
     "data": {
      "text/html": [
       "\n",
       "    <div class=\"bk-root\">\n",
       "        <a href=\"https://bokeh.pydata.org\" target=\"_blank\" class=\"bk-logo bk-logo-small bk-logo-notebook\"></a>\n",
       "        <span id=\"1001\">Loading BokehJS ...</span>\n",
       "    </div>"
      ]
     },
     "metadata": {},
     "output_type": "display_data"
    },
    {
     "data": {
      "application/javascript": [
       "\n",
       "(function(root) {\n",
       "  function now() {\n",
       "    return new Date();\n",
       "  }\n",
       "\n",
       "  var force = true;\n",
       "\n",
       "  if (typeof (root._bokeh_onload_callbacks) === \"undefined\" || force === true) {\n",
       "    root._bokeh_onload_callbacks = [];\n",
       "    root._bokeh_is_loading = undefined;\n",
       "  }\n",
       "\n",
       "  var JS_MIME_TYPE = 'application/javascript';\n",
       "  var HTML_MIME_TYPE = 'text/html';\n",
       "  var EXEC_MIME_TYPE = 'application/vnd.bokehjs_exec.v0+json';\n",
       "  var CLASS_NAME = 'output_bokeh rendered_html';\n",
       "\n",
       "  /**\n",
       "   * Render data to the DOM node\n",
       "   */\n",
       "  function render(props, node) {\n",
       "    var script = document.createElement(\"script\");\n",
       "    node.appendChild(script);\n",
       "  }\n",
       "\n",
       "  /**\n",
       "   * Handle when an output is cleared or removed\n",
       "   */\n",
       "  function handleClearOutput(event, handle) {\n",
       "    var cell = handle.cell;\n",
       "\n",
       "    var id = cell.output_area._bokeh_element_id;\n",
       "    var server_id = cell.output_area._bokeh_server_id;\n",
       "    // Clean up Bokeh references\n",
       "    if (id != null && id in Bokeh.index) {\n",
       "      Bokeh.index[id].model.document.clear();\n",
       "      delete Bokeh.index[id];\n",
       "    }\n",
       "\n",
       "    if (server_id !== undefined) {\n",
       "      // Clean up Bokeh references\n",
       "      var cmd = \"from bokeh.io.state import curstate; print(curstate().uuid_to_server['\" + server_id + \"'].get_sessions()[0].document.roots[0]._id)\";\n",
       "      cell.notebook.kernel.execute(cmd, {\n",
       "        iopub: {\n",
       "          output: function(msg) {\n",
       "            var id = msg.content.text.trim();\n",
       "            if (id in Bokeh.index) {\n",
       "              Bokeh.index[id].model.document.clear();\n",
       "              delete Bokeh.index[id];\n",
       "            }\n",
       "          }\n",
       "        }\n",
       "      });\n",
       "      // Destroy server and session\n",
       "      var cmd = \"import bokeh.io.notebook as ion; ion.destroy_server('\" + server_id + \"')\";\n",
       "      cell.notebook.kernel.execute(cmd);\n",
       "    }\n",
       "  }\n",
       "\n",
       "  /**\n",
       "   * Handle when a new output is added\n",
       "   */\n",
       "  function handleAddOutput(event, handle) {\n",
       "    var output_area = handle.output_area;\n",
       "    var output = handle.output;\n",
       "\n",
       "    // limit handleAddOutput to display_data with EXEC_MIME_TYPE content only\n",
       "    if ((output.output_type != \"display_data\") || (!output.data.hasOwnProperty(EXEC_MIME_TYPE))) {\n",
       "      return\n",
       "    }\n",
       "\n",
       "    var toinsert = output_area.element.find(\".\" + CLASS_NAME.split(' ')[0]);\n",
       "\n",
       "    if (output.metadata[EXEC_MIME_TYPE][\"id\"] !== undefined) {\n",
       "      toinsert[toinsert.length - 1].firstChild.textContent = output.data[JS_MIME_TYPE];\n",
       "      // store reference to embed id on output_area\n",
       "      output_area._bokeh_element_id = output.metadata[EXEC_MIME_TYPE][\"id\"];\n",
       "    }\n",
       "    if (output.metadata[EXEC_MIME_TYPE][\"server_id\"] !== undefined) {\n",
       "      var bk_div = document.createElement(\"div\");\n",
       "      bk_div.innerHTML = output.data[HTML_MIME_TYPE];\n",
       "      var script_attrs = bk_div.children[0].attributes;\n",
       "      for (var i = 0; i < script_attrs.length; i++) {\n",
       "        toinsert[toinsert.length - 1].firstChild.setAttribute(script_attrs[i].name, script_attrs[i].value);\n",
       "      }\n",
       "      // store reference to server id on output_area\n",
       "      output_area._bokeh_server_id = output.metadata[EXEC_MIME_TYPE][\"server_id\"];\n",
       "    }\n",
       "  }\n",
       "\n",
       "  function register_renderer(events, OutputArea) {\n",
       "\n",
       "    function append_mime(data, metadata, element) {\n",
       "      // create a DOM node to render to\n",
       "      var toinsert = this.create_output_subarea(\n",
       "        metadata,\n",
       "        CLASS_NAME,\n",
       "        EXEC_MIME_TYPE\n",
       "      );\n",
       "      this.keyboard_manager.register_events(toinsert);\n",
       "      // Render to node\n",
       "      var props = {data: data, metadata: metadata[EXEC_MIME_TYPE]};\n",
       "      render(props, toinsert[toinsert.length - 1]);\n",
       "      element.append(toinsert);\n",
       "      return toinsert\n",
       "    }\n",
       "\n",
       "    /* Handle when an output is cleared or removed */\n",
       "    events.on('clear_output.CodeCell', handleClearOutput);\n",
       "    events.on('delete.Cell', handleClearOutput);\n",
       "\n",
       "    /* Handle when a new output is added */\n",
       "    events.on('output_added.OutputArea', handleAddOutput);\n",
       "\n",
       "    /**\n",
       "     * Register the mime type and append_mime function with output_area\n",
       "     */\n",
       "    OutputArea.prototype.register_mime_type(EXEC_MIME_TYPE, append_mime, {\n",
       "      /* Is output safe? */\n",
       "      safe: true,\n",
       "      /* Index of renderer in `output_area.display_order` */\n",
       "      index: 0\n",
       "    });\n",
       "  }\n",
       "\n",
       "  // register the mime type if in Jupyter Notebook environment and previously unregistered\n",
       "  if (root.Jupyter !== undefined) {\n",
       "    var events = require('base/js/events');\n",
       "    var OutputArea = require('notebook/js/outputarea').OutputArea;\n",
       "\n",
       "    if (OutputArea.prototype.mime_types().indexOf(EXEC_MIME_TYPE) == -1) {\n",
       "      register_renderer(events, OutputArea);\n",
       "    }\n",
       "  }\n",
       "\n",
       "  \n",
       "  if (typeof (root._bokeh_timeout) === \"undefined\" || force === true) {\n",
       "    root._bokeh_timeout = Date.now() + 5000;\n",
       "    root._bokeh_failed_load = false;\n",
       "  }\n",
       "\n",
       "  var NB_LOAD_WARNING = {'data': {'text/html':\n",
       "     \"<div style='background-color: #fdd'>\\n\"+\n",
       "     \"<p>\\n\"+\n",
       "     \"BokehJS does not appear to have successfully loaded. If loading BokehJS from CDN, this \\n\"+\n",
       "     \"may be due to a slow or bad network connection. Possible fixes:\\n\"+\n",
       "     \"</p>\\n\"+\n",
       "     \"<ul>\\n\"+\n",
       "     \"<li>re-rerun `output_notebook()` to attempt to load from CDN again, or</li>\\n\"+\n",
       "     \"<li>use INLINE resources instead, as so:</li>\\n\"+\n",
       "     \"</ul>\\n\"+\n",
       "     \"<code>\\n\"+\n",
       "     \"from bokeh.resources import INLINE\\n\"+\n",
       "     \"output_notebook(resources=INLINE)\\n\"+\n",
       "     \"</code>\\n\"+\n",
       "     \"</div>\"}};\n",
       "\n",
       "  function display_loaded() {\n",
       "    var el = document.getElementById(\"1001\");\n",
       "    if (el != null) {\n",
       "      el.textContent = \"BokehJS is loading...\";\n",
       "    }\n",
       "    if (root.Bokeh !== undefined) {\n",
       "      if (el != null) {\n",
       "        el.textContent = \"BokehJS \" + root.Bokeh.version + \" successfully loaded.\";\n",
       "      }\n",
       "    } else if (Date.now() < root._bokeh_timeout) {\n",
       "      setTimeout(display_loaded, 100)\n",
       "    }\n",
       "  }\n",
       "\n",
       "\n",
       "  function run_callbacks() {\n",
       "    try {\n",
       "      root._bokeh_onload_callbacks.forEach(function(callback) { callback() });\n",
       "    }\n",
       "    finally {\n",
       "      delete root._bokeh_onload_callbacks\n",
       "    }\n",
       "    console.info(\"Bokeh: all callbacks have finished\");\n",
       "  }\n",
       "\n",
       "  function load_libs(js_urls, callback) {\n",
       "    root._bokeh_onload_callbacks.push(callback);\n",
       "    if (root._bokeh_is_loading > 0) {\n",
       "      console.log(\"Bokeh: BokehJS is being loaded, scheduling callback at\", now());\n",
       "      return null;\n",
       "    }\n",
       "    if (js_urls == null || js_urls.length === 0) {\n",
       "      run_callbacks();\n",
       "      return null;\n",
       "    }\n",
       "    console.log(\"Bokeh: BokehJS not loaded, scheduling load and callback at\", now());\n",
       "    root._bokeh_is_loading = js_urls.length;\n",
       "    for (var i = 0; i < js_urls.length; i++) {\n",
       "      var url = js_urls[i];\n",
       "      var s = document.createElement('script');\n",
       "      s.src = url;\n",
       "      s.async = false;\n",
       "      s.onreadystatechange = s.onload = function() {\n",
       "        root._bokeh_is_loading--;\n",
       "        if (root._bokeh_is_loading === 0) {\n",
       "          console.log(\"Bokeh: all BokehJS libraries loaded\");\n",
       "          run_callbacks()\n",
       "        }\n",
       "      };\n",
       "      s.onerror = function() {\n",
       "        console.warn(\"failed to load library \" + url);\n",
       "      };\n",
       "      console.log(\"Bokeh: injecting script tag for BokehJS library: \", url);\n",
       "      document.getElementsByTagName(\"head\")[0].appendChild(s);\n",
       "    }\n",
       "  };var element = document.getElementById(\"1001\");\n",
       "  if (element == null) {\n",
       "    console.log(\"Bokeh: ERROR: autoload.js configured with elementid '1001' but no matching script tag was found. \")\n",
       "    return false;\n",
       "  }\n",
       "\n",
       "  var js_urls = [\"https://cdn.pydata.org/bokeh/release/bokeh-1.0.4.min.js\", \"https://cdn.pydata.org/bokeh/release/bokeh-widgets-1.0.4.min.js\", \"https://cdn.pydata.org/bokeh/release/bokeh-tables-1.0.4.min.js\", \"https://cdn.pydata.org/bokeh/release/bokeh-gl-1.0.4.min.js\"];\n",
       "\n",
       "  var inline_js = [\n",
       "    function(Bokeh) {\n",
       "      Bokeh.set_log_level(\"info\");\n",
       "    },\n",
       "    \n",
       "    function(Bokeh) {\n",
       "      \n",
       "    },\n",
       "    function(Bokeh) {\n",
       "      console.log(\"Bokeh: injecting CSS: https://cdn.pydata.org/bokeh/release/bokeh-1.0.4.min.css\");\n",
       "      Bokeh.embed.inject_css(\"https://cdn.pydata.org/bokeh/release/bokeh-1.0.4.min.css\");\n",
       "      console.log(\"Bokeh: injecting CSS: https://cdn.pydata.org/bokeh/release/bokeh-widgets-1.0.4.min.css\");\n",
       "      Bokeh.embed.inject_css(\"https://cdn.pydata.org/bokeh/release/bokeh-widgets-1.0.4.min.css\");\n",
       "      console.log(\"Bokeh: injecting CSS: https://cdn.pydata.org/bokeh/release/bokeh-tables-1.0.4.min.css\");\n",
       "      Bokeh.embed.inject_css(\"https://cdn.pydata.org/bokeh/release/bokeh-tables-1.0.4.min.css\");\n",
       "    }\n",
       "  ];\n",
       "\n",
       "  function run_inline_js() {\n",
       "    \n",
       "    if ((root.Bokeh !== undefined) || (force === true)) {\n",
       "      for (var i = 0; i < inline_js.length; i++) {\n",
       "        inline_js[i].call(root, root.Bokeh);\n",
       "      }if (force === true) {\n",
       "        display_loaded();\n",
       "      }} else if (Date.now() < root._bokeh_timeout) {\n",
       "      setTimeout(run_inline_js, 100);\n",
       "    } else if (!root._bokeh_failed_load) {\n",
       "      console.log(\"Bokeh: BokehJS failed to load within specified timeout.\");\n",
       "      root._bokeh_failed_load = true;\n",
       "    } else if (force !== true) {\n",
       "      var cell = $(document.getElementById(\"1001\")).parents('.cell').data().cell;\n",
       "      cell.output_area.append_execute_result(NB_LOAD_WARNING)\n",
       "    }\n",
       "\n",
       "  }\n",
       "\n",
       "  if (root._bokeh_is_loading === 0) {\n",
       "    console.log(\"Bokeh: BokehJS loaded, going straight to plotting\");\n",
       "    run_inline_js();\n",
       "  } else {\n",
       "    load_libs(js_urls, function() {\n",
       "      console.log(\"Bokeh: BokehJS plotting callback run at\", now());\n",
       "      run_inline_js();\n",
       "    });\n",
       "  }\n",
       "}(window));"
      ],
      "application/vnd.bokehjs_load.v0+json": "\n(function(root) {\n  function now() {\n    return new Date();\n  }\n\n  var force = true;\n\n  if (typeof (root._bokeh_onload_callbacks) === \"undefined\" || force === true) {\n    root._bokeh_onload_callbacks = [];\n    root._bokeh_is_loading = undefined;\n  }\n\n  \n\n  \n  if (typeof (root._bokeh_timeout) === \"undefined\" || force === true) {\n    root._bokeh_timeout = Date.now() + 5000;\n    root._bokeh_failed_load = false;\n  }\n\n  var NB_LOAD_WARNING = {'data': {'text/html':\n     \"<div style='background-color: #fdd'>\\n\"+\n     \"<p>\\n\"+\n     \"BokehJS does not appear to have successfully loaded. If loading BokehJS from CDN, this \\n\"+\n     \"may be due to a slow or bad network connection. Possible fixes:\\n\"+\n     \"</p>\\n\"+\n     \"<ul>\\n\"+\n     \"<li>re-rerun `output_notebook()` to attempt to load from CDN again, or</li>\\n\"+\n     \"<li>use INLINE resources instead, as so:</li>\\n\"+\n     \"</ul>\\n\"+\n     \"<code>\\n\"+\n     \"from bokeh.resources import INLINE\\n\"+\n     \"output_notebook(resources=INLINE)\\n\"+\n     \"</code>\\n\"+\n     \"</div>\"}};\n\n  function display_loaded() {\n    var el = document.getElementById(\"1001\");\n    if (el != null) {\n      el.textContent = \"BokehJS is loading...\";\n    }\n    if (root.Bokeh !== undefined) {\n      if (el != null) {\n        el.textContent = \"BokehJS \" + root.Bokeh.version + \" successfully loaded.\";\n      }\n    } else if (Date.now() < root._bokeh_timeout) {\n      setTimeout(display_loaded, 100)\n    }\n  }\n\n\n  function run_callbacks() {\n    try {\n      root._bokeh_onload_callbacks.forEach(function(callback) { callback() });\n    }\n    finally {\n      delete root._bokeh_onload_callbacks\n    }\n    console.info(\"Bokeh: all callbacks have finished\");\n  }\n\n  function load_libs(js_urls, callback) {\n    root._bokeh_onload_callbacks.push(callback);\n    if (root._bokeh_is_loading > 0) {\n      console.log(\"Bokeh: BokehJS is being loaded, scheduling callback at\", now());\n      return null;\n    }\n    if (js_urls == null || js_urls.length === 0) {\n      run_callbacks();\n      return null;\n    }\n    console.log(\"Bokeh: BokehJS not loaded, scheduling load and callback at\", now());\n    root._bokeh_is_loading = js_urls.length;\n    for (var i = 0; i < js_urls.length; i++) {\n      var url = js_urls[i];\n      var s = document.createElement('script');\n      s.src = url;\n      s.async = false;\n      s.onreadystatechange = s.onload = function() {\n        root._bokeh_is_loading--;\n        if (root._bokeh_is_loading === 0) {\n          console.log(\"Bokeh: all BokehJS libraries loaded\");\n          run_callbacks()\n        }\n      };\n      s.onerror = function() {\n        console.warn(\"failed to load library \" + url);\n      };\n      console.log(\"Bokeh: injecting script tag for BokehJS library: \", url);\n      document.getElementsByTagName(\"head\")[0].appendChild(s);\n    }\n  };var element = document.getElementById(\"1001\");\n  if (element == null) {\n    console.log(\"Bokeh: ERROR: autoload.js configured with elementid '1001' but no matching script tag was found. \")\n    return false;\n  }\n\n  var js_urls = [\"https://cdn.pydata.org/bokeh/release/bokeh-1.0.4.min.js\", \"https://cdn.pydata.org/bokeh/release/bokeh-widgets-1.0.4.min.js\", \"https://cdn.pydata.org/bokeh/release/bokeh-tables-1.0.4.min.js\", \"https://cdn.pydata.org/bokeh/release/bokeh-gl-1.0.4.min.js\"];\n\n  var inline_js = [\n    function(Bokeh) {\n      Bokeh.set_log_level(\"info\");\n    },\n    \n    function(Bokeh) {\n      \n    },\n    function(Bokeh) {\n      console.log(\"Bokeh: injecting CSS: https://cdn.pydata.org/bokeh/release/bokeh-1.0.4.min.css\");\n      Bokeh.embed.inject_css(\"https://cdn.pydata.org/bokeh/release/bokeh-1.0.4.min.css\");\n      console.log(\"Bokeh: injecting CSS: https://cdn.pydata.org/bokeh/release/bokeh-widgets-1.0.4.min.css\");\n      Bokeh.embed.inject_css(\"https://cdn.pydata.org/bokeh/release/bokeh-widgets-1.0.4.min.css\");\n      console.log(\"Bokeh: injecting CSS: https://cdn.pydata.org/bokeh/release/bokeh-tables-1.0.4.min.css\");\n      Bokeh.embed.inject_css(\"https://cdn.pydata.org/bokeh/release/bokeh-tables-1.0.4.min.css\");\n    }\n  ];\n\n  function run_inline_js() {\n    \n    if ((root.Bokeh !== undefined) || (force === true)) {\n      for (var i = 0; i < inline_js.length; i++) {\n        inline_js[i].call(root, root.Bokeh);\n      }if (force === true) {\n        display_loaded();\n      }} else if (Date.now() < root._bokeh_timeout) {\n      setTimeout(run_inline_js, 100);\n    } else if (!root._bokeh_failed_load) {\n      console.log(\"Bokeh: BokehJS failed to load within specified timeout.\");\n      root._bokeh_failed_load = true;\n    } else if (force !== true) {\n      var cell = $(document.getElementById(\"1001\")).parents('.cell').data().cell;\n      cell.output_area.append_execute_result(NB_LOAD_WARNING)\n    }\n\n  }\n\n  if (root._bokeh_is_loading === 0) {\n    console.log(\"Bokeh: BokehJS loaded, going straight to plotting\");\n    run_inline_js();\n  } else {\n    load_libs(js_urls, function() {\n      console.log(\"Bokeh: BokehJS plotting callback run at\", now());\n      run_inline_js();\n    });\n  }\n}(window));"
     },
     "metadata": {},
     "output_type": "display_data"
    },
    {
     "name": "stderr",
     "output_type": "stream",
     "text": [
      "/Users/victoriaadcock/anaconda3/lib/python3.7/site-packages/ipykernel_launcher.py:13: DeprecationWarning: Call to deprecated `__getitem__` (Method will be removed in 4.0.0, use self.wv.__getitem__() instead).\n",
      "  del sys.path[0]\n"
     ]
    }
   ],
   "source": [
    "VocabKeys = []\n",
    "for key in model.wv.vocab.keys():\n",
    "    VocabKeys.append(key)\n",
    "\n",
    "\n",
    "#Defining the chart\n",
    "output_notebook()\n",
    "plot_chart = bp.figure(plot_width=700, plot_height=600, title=\"A Plot of 5000 Word Vectors\",\n",
    "    tools=\"pan,wheel_zoom,box_zoom,reset,hover,previewsave\",\n",
    "    x_axis_type=None, y_axis_type=None, min_border=1)\n",
    "\n",
    "#Extracting the list of word vectors, limiting to 5000, each is of 200 dimensions\n",
    "word_vectors = [model[w] for w in VocabKeys[:1000]]"
   ]
  },
  {
   "cell_type": "markdown",
   "metadata": {},
   "source": [
    "# Reducing dimensionality by converting the vectors to 2d vectors"
   ]
  },
  {
   "cell_type": "code",
   "execution_count": 19,
   "metadata": {},
   "outputs": [
    {
     "name": "stdout",
     "output_type": "stream",
     "text": [
      "[t-SNE] Computing 91 nearest neighbors...\n",
      "[t-SNE] Indexed 1000 samples in 0.003s...\n",
      "[t-SNE] Computed neighbors for 1000 samples in 0.194s...\n",
      "[t-SNE] Computed conditional probabilities for sample 1000 / 1000\n",
      "[t-SNE] Mean sigma: 0.137296\n",
      "[t-SNE] KL divergence after 250 iterations with early exaggeration: 62.863392\n",
      "[t-SNE] KL divergence after 1000 iterations: 0.996733\n"
     ]
    }
   ],
   "source": [
    "######### TSNE ##########\n",
    "\n",
    "from sklearn.manifold import TSNE\n",
    "tsne_model = TSNE(n_components=2, verbose=1, random_state=0)\n",
    "tsne_w2v = tsne_model.fit_transform(word_vectors)\n",
    "\n",
    "# Storing data in a dataframe\n",
    "tsne_df = pd.DataFrame(tsne_w2v, columns=['x', 'y'])\n",
    "tsne_df['words'] = VocabKeys[:1000]"
   ]
  },
  {
   "cell_type": "code",
   "execution_count": 20,
   "metadata": {},
   "outputs": [
    {
     "data": {
      "text/html": [
       "\n",
       "\n",
       "\n",
       "\n",
       "\n",
       "\n",
       "  <div class=\"bk-root\" id=\"af5c70f5-b837-49ef-92cd-a7fccde71757\" data-root-id=\"1003\"></div>\n"
      ]
     },
     "metadata": {},
     "output_type": "display_data"
    },
    {
     "data": {
      "application/javascript": [
       "(function(root) {\n",
       "  function embed_document(root) {\n",
       "    \n",
       "  var docs_json = {\"16b82465-6457-461b-a31b-90fe86bddeee\":{\"roots\":{\"references\":[{\"attributes\":{\"min_border\":1,\"plot_width\":700,\"renderers\":[{\"id\":\"1021\",\"type\":\"BoxAnnotation\"},{\"id\":\"1032\",\"type\":\"GlyphRenderer\"},{\"id\":\"1070\",\"type\":\"GlyphRenderer\"}],\"title\":{\"id\":\"1002\",\"type\":\"Title\"},\"toolbar\":{\"id\":\"1019\",\"type\":\"Toolbar\"},\"x_range\":{\"id\":\"1005\",\"type\":\"DataRange1d\"},\"x_scale\":{\"id\":\"1009\",\"type\":\"LinearScale\"},\"y_range\":{\"id\":\"1007\",\"type\":\"DataRange1d\"},\"y_scale\":{\"id\":\"1011\",\"type\":\"LinearScale\"}},\"id\":\"1003\",\"subtype\":\"Figure\",\"type\":\"Plot\"},{\"attributes\":{},\"id\":\"1018\",\"type\":\"SaveTool\"},{\"attributes\":{},\"id\":\"1076\",\"type\":\"Selection\"},{\"attributes\":{\"active_drag\":\"auto\",\"active_inspect\":\"auto\",\"active_multi\":null,\"active_scroll\":\"auto\",\"active_tap\":\"auto\",\"tools\":[{\"id\":\"1013\",\"type\":\"PanTool\"},{\"id\":\"1014\",\"type\":\"WheelZoomTool\"},{\"id\":\"1015\",\"type\":\"BoxZoomTool\"},{\"id\":\"1016\",\"type\":\"ResetTool\"},{\"id\":\"1017\",\"type\":\"HoverTool\"},{\"id\":\"1018\",\"type\":\"SaveTool\"}]},\"id\":\"1019\",\"type\":\"Toolbar\"},{\"attributes\":{\"fill_color\":{\"value\":\"#1f77b4\"},\"line_color\":{\"value\":\"#1f77b4\"},\"x\":{\"field\":\"x\"},\"y\":{\"field\":\"y\"}},\"id\":\"1030\",\"type\":\"Scatter\"},{\"attributes\":{},\"id\":\"1075\",\"type\":\"UnionRenderers\"},{\"attributes\":{\"source\":{\"id\":\"1028\",\"type\":\"ColumnDataSource\"}},\"id\":\"1033\",\"type\":\"CDSView\"},{\"attributes\":{},\"id\":\"1013\",\"type\":\"PanTool\"},{\"attributes\":{},\"id\":\"1014\",\"type\":\"WheelZoomTool\"},{\"attributes\":{\"bottom_units\":\"screen\",\"fill_alpha\":{\"value\":0.5},\"fill_color\":{\"value\":\"lightgrey\"},\"left_units\":\"screen\",\"level\":\"overlay\",\"line_alpha\":{\"value\":1.0},\"line_color\":{\"value\":\"black\"},\"line_dash\":[4,4],\"line_width\":{\"value\":2},\"plot\":null,\"render_mode\":\"css\",\"right_units\":\"screen\",\"top_units\":\"screen\"},\"id\":\"1021\",\"type\":\"BoxAnnotation\"},{\"attributes\":{},\"id\":\"1036\",\"type\":\"Selection\"},{\"attributes\":{\"callback\":null,\"data\":{\"index\":[0,1,2,3,4,5,6,7,8,9,10,11,12,13,14,15,16,17,18,19,20,21,22,23,24,25,26,27,28,29,30,31,32,33,34,35,36,37,38,39,40,41,42,43,44,45,46,47,48,49,50,51,52,53,54,55,56,57,58,59,60,61,62,63,64,65,66,67,68,69,70,71,72,73,74,75,76,77,78,79,80,81,82,83,84,85,86,87,88,89,90,91,92,93,94,95,96,97,98,99,100,101,102,103,104,105,106,107,108,109,110,111,112,113,114,115,116,117,118,119,120,121,122,123,124,125,126,127,128,129,130,131,132,133,134,135,136,137,138,139,140,141,142,143,144,145,146,147,148,149,150,151,152,153,154,155,156,157,158,159,160,161,162,163,164,165,166,167,168,169,170,171,172,173,174,175,176,177,178,179,180,181,182,183,184,185,186,187,188,189,190,191,192,193,194,195,196,197,198,199,200,201,202,203,204,205,206,207,208,209,210,211,212,213,214,215,216,217,218,219,220,221,222,223,224,225,226,227,228,229,230,231,232,233,234,235,236,237,238,239,240,241,242,243,244,245,246,247,248,249,250,251,252,253,254,255,256,257,258,259,260,261,262,263,264,265,266,267,268,269,270,271,272,273,274,275,276,277,278,279,280,281,282,283,284,285,286,287,288,289,290,291,292,293,294,295,296,297,298,299,300,301,302,303,304,305,306,307,308,309,310,311,312,313,314,315,316,317,318,319,320,321,322,323,324,325,326,327,328,329,330,331,332,333,334,335,336,337,338,339,340,341,342,343,344,345,346,347,348,349,350,351,352,353,354,355,356,357,358,359,360,361,362,363,364,365,366,367,368,369,370,371,372,373,374,375,376,377,378,379,380,381,382,383,384,385,386,387,388,389,390,391,392,393,394,395,396,397,398,399,400,401,402,403,404,405,406,407,408,409,410,411,412,413,414,415,416,417,418,419,420,421,422,423,424,425,426,427,428,429,430,431,432,433,434,435,436,437,438,439,440,441,442,443,444,445,446,447,448,449,450,451,452,453,454,455,456,457,458,459,460,461,462,463,464,465,466,467,468,469,470,471,472,473,474,475,476,477,478,479,480,481,482,483,484,485,486,487,488,489,490,491,492,493,494,495,496,497,498,499,500,501,502,503,504,505,506,507,508,509,510,511,512,513,514,515,516,517,518,519,520,521,522,523,524,525,526,527,528,529,530,531,532,533,534,535,536,537,538,539,540,541,542,543,544,545,546,547,548,549,550,551,552,553,554,555,556,557,558,559,560,561,562,563,564,565,566,567,568,569,570,571,572,573,574,575,576,577,578,579,580,581,582,583,584,585,586,587,588,589,590,591,592,593,594,595,596,597,598,599,600,601,602,603,604,605,606,607,608,609,610,611,612,613,614,615,616,617,618,619,620,621,622,623,624,625,626,627,628,629,630,631,632,633,634,635,636,637,638,639,640,641,642,643,644,645,646,647,648,649,650,651,652,653,654,655,656,657,658,659,660,661,662,663,664,665,666,667,668,669,670,671,672,673,674,675,676,677,678,679,680,681,682,683,684,685,686,687,688,689,690,691,692,693,694,695,696,697,698,699,700,701,702,703,704,705,706,707,708,709,710,711,712,713,714,715,716,717,718,719,720,721,722,723,724,725,726,727,728,729,730,731,732,733,734,735,736,737,738,739,740,741,742,743,744,745,746,747,748,749,750,751,752,753,754,755,756,757,758,759,760,761,762,763,764,765,766,767,768,769,770,771,772,773,774,775,776,777,778,779,780,781,782,783,784,785,786,787,788,789,790,791,792,793,794,795,796,797,798,799,800,801,802,803,804,805,806,807,808,809,810,811,812,813,814,815,816,817,818,819,820,821,822,823,824,825,826,827,828,829,830,831,832,833,834,835,836,837,838,839,840,841,842,843,844,845,846,847,848,849,850,851,852,853,854,855,856,857,858,859,860,861,862,863,864,865,866,867,868,869,870,871,872,873,874,875,876,877,878,879,880,881,882,883,884,885,886,887,888,889,890,891,892,893,894,895,896,897,898,899,900,901,902,903,904,905,906,907,908,909,910,911,912,913,914,915,916,917,918,919,920,921,922,923,924,925,926,927,928,929,930,931,932,933,934,935,936,937,938,939,940,941,942,943,944,945,946,947,948,949,950,951,952,953,954,955,956,957,958,959,960,961,962,963,964,965,966,967,968,969,970,971,972,973,974,975,976,977,978,979,980,981,982,983,984,985,986,987,988,989,990,991,992,993,994,995,996,997,998,999],\"words\":[\"logic\",\"dumb\",\"even\",\"crop\",\"name\",\"photo\",\"tsk\",\"put\",\"casper\",\"box\",\"looved\",\"battle\",\"crakkbitch\",\"thanks\",\"sir\",\"trip\",\"lil\",\"mama\",\"keep\",\"doin\",\"ya\",\"thang\",\"visiting\",\"brother\",\"tmr\",\"bestest\",\"birthday\",\"gift\",\"eveerrr\",\"yay\",\"lifecompleted\",\"tweet\",\"facebook\",\"let\",\"know\",\"please\",\"1dnextalbumtitle\",\"feel\",\"rollercoaster\",\"life\",\"song\",\"cocept\",\"yolo\",\"becoming\",\"famous\",\"3\",\"14\",\"followmeplz\",\"x15\",\"workin\",\"hard\",\"hardly\",\"rt\",\"hardee\",\"future\",\"coworker\",\"saw\",\"replying\",\"bit\",\"belong\",\"anddd\",\"cheer\",\"nationals2013\",\"send\",\"invitation\",\"shop\",\"line\",\"find\",\"everything\",\"need\",\"without\",\"leaving\",\"home\",\"woke\",\"finna\",\"go\",\"church\",\"agreed\",\"12\",\"days\",\"left\",\"tho\",\"monet\",\"katemelo\",\"like\",\"dammm\",\"lexis\",\"u\",\"got\",\"lot\",\"say\",\"ur\",\"twitter\",\"lol\",\"grateful\",\"today\",\"dream\",\"fulfilled\",\"heart\",\"full\",\"first\",\"completed\",\"tracks\",\"arrived\",\"back\",\"new\",\"york\",\"yeslord\",\"affairs\",\"shall\",\"later\",\"barca\",\"bout\",\"beat\",\"real\",\"madrid\",\"saturday\",\"doe\",\"parts\",\"asia\",\"especially\",\"rats\",\"live\",\"country\",\"grains\",\"supposed\",\"quite\",\"tasty\",\"sleeping\",\"shut\",\"cho\",\"ole\",\"sleep\",\"lookin\",\"ass\",\"worlds\",\"best\",\"dad\",\"ab\",\"jaeyay\",\"werna\",\"meeting\",\"khatam\",\"hi\",\"hojaeygi\",\"baaqi\",\"ki\",\"buttering\",\"baad\",\"may\",\"karaygay\",\"hum\",\"sab\",\"one\",\"doubts\",\"ability\",\"check\",\"pic\",\"outfit\",\"mid\",\"term\",\"impressed\",\"happy\",\"summer\",\"1\",\"work\",\"10\",\"30\",\"2\",\"ish\",\"shower\",\"eat\",\"till\",\"whenever\",\"nooo\",\"food\",\"friend\",\"16millionbritneyfan\",\"seriously\",\"though\",\"called\",\"vanity\",\"fairest\",\"chloe\",\"ill\",\"teach\",\"yous\",\"cook\",\"pros\",\"end\",\"im\",\"something\",\"chicken\",\"questions\",\"preston\",\"short\",\"nap\",\"mikes\",\"another\",\"hour\",\"answer\",\"q\",\"make\",\"em\",\"original\",\"friday\",\"payday\",\"4\",\"20\",\"hell\",\"yeah\",\"reasons2dothebirdmanhandrub\",\"thank\",\"love\",\"def\",\"get\",\"done\",\"plenty\",\"want\",\"framed\",\"lols\",\"week\",\"thanksss\",\"xxx\",\"ff\",\"good\",\"hilarious\",\"sweet\",\"kind\",\"loves\",\"toilet\",\"paper\",\"always\",\"made\",\"laugh\",\"needed\",\"apparently\",\"quote\",\"moment\",\"cos\",\"else\",\"uncertain\",\"louis\",\"tomlinson\",\"wait\",\"see\",\"notice\",\"follow\",\"bigger\",\"ones\",\"yougetmajorpointsif\",\"olivia\",\"brown\",\"ty\",\"well\",\"would\",\"sister\",\"christ\",\"truly\",\"blessing\",\"kingdom\",\"southall\",\"travel\",\"visit\",\"care\",\"morning\",\"share\",\"friends\",\"blonde\",\"yet\",\"picture\",\"dont\",\"thing\",\"plus\",\"bridge\",\"traffic\",\"japan\",\"nicest\",\"rivers\",\"oh\",\"drawing\",\"based\",\"waiting\",\"knowing\",\"fav\",\"color\",\"seen\",\"ask\",\"annoying\",\"p\",\"haha\",\"ooo\",\"really\",\"17\",\"followers\",\"500\",\"support\",\"ben\",\"kelly\",\"teamjessie\",\"thevoiceuk\",\"thatd\",\"hahah\",\"xx\",\"mr\",\"schmidt\",\"knight\",\"charmer\",\"day\",\"five\",\"gazillion\",\"times\",\"better\",\"probs\",\"hope\",\"going\",\"watching\",\"hehe\",\"bed\",\"night\",\"bbs\",\"front\",\"people\",\"kills\",\"martina\",\"gonna\",\"video\",\"call\",\"maybe\",\"boys\",\"laying\",\"little\",\"cuddle\",\"buddy\",\"tonight\",\"aahh\",\"sorry\",\"ace\",\"zuers\",\"holding\",\"midst\",\"midterms\",\"remember\",\"secret\",\"success\",\"48\",\"half\",\"fellow\",\"twfanmily\",\"member\",\"okay\",\"next\",\"definitely\",\"hanging\",\"figured\",\"mike\",\"situation\",\"jersey\",\"shore\",\"july\",\"4th\",\"fireworks\",\"dude\",\"dident\",\"starts\",\"trying\",\"shit\",\"k\",\"nice\",\"tweets\",\"try\",\"surprised\",\"score\",\"school\",\"girls\",\"hello\",\"thought\",\"proud\",\"face\",\"handed\",\"tear\",\"xoxoxo\",\"smackkk\",\"judge\",\"criticize\",\"says\",\"nothing\",\"umm\",\"duh\",\"told\",\"come\",\"cracow\",\"aww\",\"smurf\",\"talking\",\"lifts\",\"spirits\",\"give\",\"dope\",\"dick\",\"stomach\",\"eyes\",\"rolling\",\"toes\",\"curling\",\"reals\",\"sparking\",\"believe\",\"hall\",\"help\",\"us\",\"trend\",\"jaomikay\",\"kathrynbernardoasmikay\",\"thankyou\",\"cold\",\"40s\",\"fridge\",\"heres\",\"kids\",\"hate\",\"giving\",\"speeches\",\"gunun\",\"sorusu\",\"mind\",\"via\",\"old\",\"enough\",\"long\",\"lost\",\"family\",\"glad\",\"ok\",\"sure\",\"almost\",\"c\",\"nite\",\"meal\",\"cinema\",\"katie\",\"since\",\"bieber\",\"fan\",\"arnt\",\"many\",\"assumed\",\"team\",\"smiles\",\"chikaroo\",\"spanish\",\"every\",\"24\",\"hours\",\"fully\",\"sick\",\"dog\",\"super\",\"sexy\",\"gold\",\"show\",\"ladies\",\"fun\",\"shopping\",\"pleasure\",\"marie\",\"aware\",\"hyena\",\"nitrous\",\"oxide\",\"might\",\"confuse\",\"dm\",\"shindig\",\"x\",\"til\",\"moves\",\"san\",\"antonio\",\"weather\",\"pwede\",\"bang\",\"na\",\"malamig\",\"haist\",\"9\",\"19\",\"time\",\"book\",\"t4\",\"beach\",\"tickets\",\"excited\",\"wow\",\"forgot\",\"difference\",\"omfg\",\"1d\",\"came\",\"die\",\"black\",\"touch\",\"blue\",\"drinking\",\"cause\",\"cute\",\"aight\",\"sweetz\",\"adam\",\"west\",\"think\",\"forgetting\",\"describes\",\"jessica\",\"makes\",\"foreveralone\",\"right\",\"forever\",\"alone\",\"aha\",\"hahahah\",\"r\",\"awake\",\"hahaha\",\"join\",\"insommia\",\"lifeofcallcenter\",\"swiftie\",\"la\",\"whatever\",\"peasant\",\"embarrassing\",\"bet\",\"dadforgottogetkerosine\",\"trending\",\"worldwide\",\"stupidhashtag\",\"fckk\",\"yall\",\"titties\",\"big\",\"dd\",\"wishfulthinking\",\"angels\",\"guard\",\"guide\",\"way\",\"jk\",\"kimmy\",\"wen\",\"muslim\",\"rouninblogs\",\"stickers\",\"shirt\",\"comin\",\"soon\",\"rouninapparel\",\"rounin\",\"design\",\"simply\",\"amazing\",\"deserves\",\"kiss\",\"mhee\",\"slow\",\"blow\",\"mhy\",\"lmao\",\"weird\",\"true\",\"crazy\",\"relate\",\"stuff\",\"smh\",\"zed\",\"msh\",\"aja\",\"lipbalm\",\"salep\",\"kutu\",\"air\",\"miss\",\"nia\",\"yes\",\"hopefully\",\"grad\",\"wanna\",\"buy\",\"stop\",\"wars\",\"bought\",\"wear\",\"psychology\",\"together\",\"problem\",\"babe\",\"dear\",\"subway\",\"date\",\"workflow\",\"omg\",\"making\",\"avant\",\"baby\",\"playlist\",\"closing\",\"welcome\",\"sharing\",\"looking\",\"forward\",\"great\",\"stay\",\"fit\",\"global\",\"b\",\"blacky\",\"alison\",\"story\",\"getting\",\"hee\",\"xoxox\",\"thats\",\"article\",\"writing\",\"poems\",\"pycc\",\"toolive\",\"chad\",\"saying\",\"realthug\",\"lady\",\"streets\",\"freak\",\"sheets\",\"tattoo\",\"talks\",\"emmanuel\",\"mayo\",\"whewww\",\"thingsrkellysingsabout\",\"ready\",\"fa\",\"covers\",\"adventure\",\"laynn\",\"briefs\",\"instagram\",\"never\",\"smoked\",\"bring\",\"mom\",\"magazines\",\"mail\",\"smile\",\"imma\",\"bitch\",\"prom\",\"taken\",\"away\",\"either\",\"win\",\"girl\",\"righthaha\",\"course\",\"still\",\"reassuringly\",\"trotskyist\",\"95\",\"treats\",\"ed\",\"client\",\"baking\",\"woohoo\",\"cuz\",\"waystobeginsex\",\"hella\",\"guy\",\"tell\",\"ck\",\"much\",\"bay\",\"text\",\"could\",\"dance\",\"around\",\"idiot\",\"luke\",\"28\",\"lool\",\"banter\",\"board\",\"practice\",\"awesome\",\"bap\",\"site\",\"slide\",\"thru\",\"1love\",\"lyrics\",\"jus\",\"deffo\",\"certain\",\"kidding\",\"btw\",\"banglorean\",\"appreciative\",\"eddy\",\"hold\",\"excitement\",\"take\",\"jokes\",\"king\",\"shes\",\"meant\",\"queen\",\"ima\",\"icecream\",\"double\",\"strawberry\",\"happens\",\"alot\",\"opportunity\",\"bacon\",\"infused\",\"bourbon\",\"maple\",\"syrup\",\"mexicans\",\"change\",\"lightbulb\",\"juan\",\"joketweet\",\"anyways\",\"everybody\",\"passed\",\"exams\",\"alonee\",\"yess\",\"guess\",\"patient\",\"pays\",\"run\",\"imintoyou\",\"coz\",\"songs\",\"hasnt\",\"blown\",\"army\",\"strong\",\"freedom\",\"writers\",\"advisory\",\"official\",\"lights\",\"btr\",\"already\",\"knew\",\"albanian\",\"fans\",\"guys\",\"jackasses\",\"sometimes\",\"idk\",\"fave\",\"three\",\"shades\",\"red\",\"inlove\",\"ahaha\",\"watch\",\"rock\",\"anybody\",\"kinda\",\"bug\",\"ritika\",\"listen\",\"haters\",\"pay\",\"wannabeees\",\"snooks\",\"mean\",\"allowed\",\"use\",\"promise\",\"god\",\"host\",\"american\",\"band\",\"stand\",\"started\",\"careers\",\"yep\",\"cant\",\"awww\",\"far\",\"early\",\"nicki\",\"minaj\",\"starships\",\"agree\",\"said\",\"sam\",\"wanted\",\"joke\",\"daily\",\"hugs\",\"coming\",\"wish\",\"hotbox\",\"cool\",\"coupla\",\"hits\",\"goood\",\"free\",\"paddy\",\"fucking\",\"sucks\",\"least\",\"despicable\",\"reunion\",\"1dwebstersurfboards\",\"learn\",\"surf\",\"continue\",\"playing\",\"music\",\"knows\",\"avi\",\"look\",\"anime\",\"character\",\"luh\",\"yewww\",\"hoe\",\"seaworld\",\"queensland\",\"belly\",\"button\",\"pierced\",\"yeahhh\",\"indeed\",\"joking\",\"match\",\"beyond\",\"boo\",\"gorgeous\",\"cutie\",\"head\",\"part\",\"turns\",\"ages\",\"important\",\"mine\",\"wale\",\"sounds\",\"yah\",\"reminds\",\"ago\",\"working\",\"means\",\"trashy\",\"daytime\",\"tele\",\"hahahaha\",\"youu\",\"literally\",\"floor\",\"laughing\",\"tomorrow\",\"karma\",\"play\",\"game\",\"luck\",\"whut\",\"nuthin\",\"inspiration\",\"dat\",\"dey\",\"hangin\",\"behavior\",\"feeding\",\"meee\",\"fam\",\"pet\",\"however\",\"cannot\",\"credit\",\"garret\",\"start\",\"using\",\"able\",\"ban\",\"lifted\",\"anything\",\"wrong\",\"sleeps\",\"hittheroadjack\",\"aches\",\"hungry\",\"appears\",\"moot\",\"clearly\",\"late\",\"sounding\",\"killer\",\"hear\",\"body\",\"shake\",\"staage\",\"corner\",\"sammich\",\"weeks\",\"somewhere\",\"ether\",\"yo\",\"bc\",\"hire\",\"hitman\",\"rest\",\"peace\",\"clark\",\"years\",\"underestimate\",\"5am\",\"film\",\"across\",\"canada\",\"ottawa\",\"lots\",\"audition\",\"mybrother\",\"playipad\",\"deaf\",\"havana\",\"welp\",\"huge\",\"failures\",\"wahh\",\"fights\",\"pussies\",\"handle\",\"singing\",\"car\",\"perving\",\"mess\",\"glee\",\"hey\",\"gok\",\"fashion\",\"perfect\",\"liam\",\"class\",\"spending\",\"boyfriend\",\"winning\",\"reason\",\"aw\",\"lew\",\"fantastic\",\"grow\",\"methinks\",\"rage\",\"gingey\",\"worry\",\"turn\",\"frown\",\"upside\",\"conference\",\"boooring\",\"prolly\",\"5\",\"colour\",\"condition\",\"ion\",\"otl\",\"tiring\",\"preparing\",\"things\",\"swimming\",\"track\",\"meet\",\"popping\",\"tv\",\"fall\",\"asleep\",\"goodnight\",\"ninie\",\"segyero\",\"holly\",\"headphones\",\"outside\",\"commons\",\"nah\",\"banged\",\"3hours\",\"revision\",\"kindalethal\",\"hair\",\"normal\",\"weirdo\"],\"x\":{\"__ndarray__\":\"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\",\"dtype\":\"float32\",\"shape\":[1000]},\"y\":{\"__ndarray__\":\"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\",\"dtype\":\"float32\",\"shape\":[1000]}},\"selected\":{\"id\":\"1076\",\"type\":\"Selection\"},\"selection_policy\":{\"id\":\"1075\",\"type\":\"UnionRenderers\"}},\"id\":\"1066\",\"type\":\"ColumnDataSource\"},{\"attributes\":{\"callback\":null,\"data\":{\"index\":[0,1,2,3,4,5,6,7,8,9,10,11,12,13,14,15,16,17,18,19,20,21,22,23,24,25,26,27,28,29,30,31,32,33,34,35,36,37,38,39,40,41,42,43,44,45,46,47,48,49,50,51,52,53,54,55,56,57,58,59,60,61,62,63,64,65,66,67,68,69,70,71,72,73,74,75,76,77,78,79,80,81,82,83,84,85,86,87,88,89,90,91,92,93,94,95,96,97,98,99,100,101,102,103,104,105,106,107,108,109,110,111,112,113,114,115,116,117,118,119,120,121,122,123,124,125,126,127,128,129,130,131,132,133,134,135,136,137,138,139,140,141,142,143,144,145,146,147,148,149,150,151,152,153,154,155,156,157,158,159,160,161,162,163,164,165,166,167,168,169,170,171,172,173,174,175,176,177,178,179,180,181,182,183,184,185,186,187,188,189,190,191,192,193,194,195,196,197,198,199,200,201,202,203,204,205,206,207,208,209,210,211,212,213,214,215,216,217,218,219,220,221,222,223,224,225,226,227,228,229,230,231,232,233,234,235,236,237,238,239,240,241,242,243,244,245,246,247,248,249,250,251,252,253,254,255,256,257,258,259,260,261,262,263,264,265,266,267,268,269,270,271,272,273,274,275,276,277,278,279,280,281,282,283,284,285,286,287,288,289,290,291,292,293,294,295,296,297,298,299,300,301,302,303,304,305,306,307,308,309,310,311,312,313,314,315,316,317,318,319,320,321,322,323,324,325,326,327,328,329,330,331,332,333,334,335,336,337,338,339,340,341,342,343,344,345,346,347,348,349,350,351,352,353,354,355,356,357,358,359,360,361,362,363,364,365,366,367,368,369,370,371,372,373,374,375,376,377,378,379,380,381,382,383,384,385,386,387,388,389,390,391,392,393,394,395,396,397,398,399,400,401,402,403,404,405,406,407,408,409,410,411,412,413,414,415,416,417,418,419,420,421,422,423,424,425,426,427,428,429,430,431,432,433,434,435,436,437,438,439,440,441,442,443,444,445,446,447,448,449,450,451,452,453,454,455,456,457,458,459,460,461,462,463,464,465,466,467,468,469,470,471,472,473,474,475,476,477,478,479,480,481,482,483,484,485,486,487,488,489,490,491,492,493,494,495,496,497,498,499,500,501,502,503,504,505,506,507,508,509,510,511,512,513,514,515,516,517,518,519,520,521,522,523,524,525,526,527,528,529,530,531,532,533,534,535,536,537,538,539,540,541,542,543,544,545,546,547,548,549,550,551,552,553,554,555,556,557,558,559,560,561,562,563,564,565,566,567,568,569,570,571,572,573,574,575,576,577,578,579,580,581,582,583,584,585,586,587,588,589,590,591,592,593,594,595,596,597,598,599,600,601,602,603,604,605,606,607,608,609,610,611,612,613,614,615,616,617,618,619,620,621,622,623,624,625,626,627,628,629,630,631,632,633,634,635,636,637,638,639,640,641,642,643,644,645,646,647,648,649,650,651,652,653,654,655,656,657,658,659,660,661,662,663,664,665,666,667,668,669,670,671,672,673,674,675,676,677,678,679,680,681,682,683,684,685,686,687,688,689,690,691,692,693,694,695,696,697,698,699,700,701,702,703,704,705,706,707,708,709,710,711,712,713,714,715,716,717,718,719,720,721,722,723,724,725,726,727,728,729,730,731,732,733,734,735,736,737,738,739,740,741,742,743,744,745,746,747,748,749,750,751,752,753,754,755,756,757,758,759,760,761,762,763,764,765,766,767,768,769,770,771,772,773,774,775,776,777,778,779,780,781,782,783,784,785,786,787,788,789,790,791,792,793,794,795,796,797,798,799,800,801,802,803,804,805,806,807,808,809,810,811,812,813,814,815,816,817,818,819,820,821,822,823,824,825,826,827,828,829,830,831,832,833,834,835,836,837,838,839,840,841,842,843,844,845,846,847,848,849,850,851,852,853,854,855,856,857,858,859,860,861,862,863,864,865,866,867,868,869,870,871,872,873,874,875,876,877,878,879,880,881,882,883,884,885,886,887,888,889,890,891,892,893,894,895,896,897,898,899,900,901,902,903,904,905,906,907,908,909,910,911,912,913,914,915,916,917,918,919,920,921,922,923,924,925,926,927,928,929,930,931,932,933,934,935,936,937,938,939,940,941,942,943,944,945,946,947,948,949,950,951,952,953,954,955,956,957,958,959,960,961,962,963,964,965,966,967,968,969,970,971,972,973,974,975,976,977,978,979,980,981,982,983,984,985,986,987,988,989,990,991,992,993,994,995,996,997,998,999],\"words\":[\"logic\",\"dumb\",\"even\",\"crop\",\"name\",\"photo\",\"tsk\",\"put\",\"casper\",\"box\",\"looved\",\"battle\",\"crakkbitch\",\"thanks\",\"sir\",\"trip\",\"lil\",\"mama\",\"keep\",\"doin\",\"ya\",\"thang\",\"visiting\",\"brother\",\"tmr\",\"bestest\",\"birthday\",\"gift\",\"eveerrr\",\"yay\",\"lifecompleted\",\"tweet\",\"facebook\",\"let\",\"know\",\"please\",\"1dnextalbumtitle\",\"feel\",\"rollercoaster\",\"life\",\"song\",\"cocept\",\"yolo\",\"becoming\",\"famous\",\"3\",\"14\",\"followmeplz\",\"x15\",\"workin\",\"hard\",\"hardly\",\"rt\",\"hardee\",\"future\",\"coworker\",\"saw\",\"replying\",\"bit\",\"belong\",\"anddd\",\"cheer\",\"nationals2013\",\"send\",\"invitation\",\"shop\",\"line\",\"find\",\"everything\",\"need\",\"without\",\"leaving\",\"home\",\"woke\",\"finna\",\"go\",\"church\",\"agreed\",\"12\",\"days\",\"left\",\"tho\",\"monet\",\"katemelo\",\"like\",\"dammm\",\"lexis\",\"u\",\"got\",\"lot\",\"say\",\"ur\",\"twitter\",\"lol\",\"grateful\",\"today\",\"dream\",\"fulfilled\",\"heart\",\"full\",\"first\",\"completed\",\"tracks\",\"arrived\",\"back\",\"new\",\"york\",\"yeslord\",\"affairs\",\"shall\",\"later\",\"barca\",\"bout\",\"beat\",\"real\",\"madrid\",\"saturday\",\"doe\",\"parts\",\"asia\",\"especially\",\"rats\",\"live\",\"country\",\"grains\",\"supposed\",\"quite\",\"tasty\",\"sleeping\",\"shut\",\"cho\",\"ole\",\"sleep\",\"lookin\",\"ass\",\"worlds\",\"best\",\"dad\",\"ab\",\"jaeyay\",\"werna\",\"meeting\",\"khatam\",\"hi\",\"hojaeygi\",\"baaqi\",\"ki\",\"buttering\",\"baad\",\"may\",\"karaygay\",\"hum\",\"sab\",\"one\",\"doubts\",\"ability\",\"check\",\"pic\",\"outfit\",\"mid\",\"term\",\"impressed\",\"happy\",\"summer\",\"1\",\"work\",\"10\",\"30\",\"2\",\"ish\",\"shower\",\"eat\",\"till\",\"whenever\",\"nooo\",\"food\",\"friend\",\"16millionbritneyfan\",\"seriously\",\"though\",\"called\",\"vanity\",\"fairest\",\"chloe\",\"ill\",\"teach\",\"yous\",\"cook\",\"pros\",\"end\",\"im\",\"something\",\"chicken\",\"questions\",\"preston\",\"short\",\"nap\",\"mikes\",\"another\",\"hour\",\"answer\",\"q\",\"make\",\"em\",\"original\",\"friday\",\"payday\",\"4\",\"20\",\"hell\",\"yeah\",\"reasons2dothebirdmanhandrub\",\"thank\",\"love\",\"def\",\"get\",\"done\",\"plenty\",\"want\",\"framed\",\"lols\",\"week\",\"thanksss\",\"xxx\",\"ff\",\"good\",\"hilarious\",\"sweet\",\"kind\",\"loves\",\"toilet\",\"paper\",\"always\",\"made\",\"laugh\",\"needed\",\"apparently\",\"quote\",\"moment\",\"cos\",\"else\",\"uncertain\",\"louis\",\"tomlinson\",\"wait\",\"see\",\"notice\",\"follow\",\"bigger\",\"ones\",\"yougetmajorpointsif\",\"olivia\",\"brown\",\"ty\",\"well\",\"would\",\"sister\",\"christ\",\"truly\",\"blessing\",\"kingdom\",\"southall\",\"travel\",\"visit\",\"care\",\"morning\",\"share\",\"friends\",\"blonde\",\"yet\",\"picture\",\"dont\",\"thing\",\"plus\",\"bridge\",\"traffic\",\"japan\",\"nicest\",\"rivers\",\"oh\",\"drawing\",\"based\",\"waiting\",\"knowing\",\"fav\",\"color\",\"seen\",\"ask\",\"annoying\",\"p\",\"haha\",\"ooo\",\"really\",\"17\",\"followers\",\"500\",\"support\",\"ben\",\"kelly\",\"teamjessie\",\"thevoiceuk\",\"thatd\",\"hahah\",\"xx\",\"mr\",\"schmidt\",\"knight\",\"charmer\",\"day\",\"five\",\"gazillion\",\"times\",\"better\",\"probs\",\"hope\",\"going\",\"watching\",\"hehe\",\"bed\",\"night\",\"bbs\",\"front\",\"people\",\"kills\",\"martina\",\"gonna\",\"video\",\"call\",\"maybe\",\"boys\",\"laying\",\"little\",\"cuddle\",\"buddy\",\"tonight\",\"aahh\",\"sorry\",\"ace\",\"zuers\",\"holding\",\"midst\",\"midterms\",\"remember\",\"secret\",\"success\",\"48\",\"half\",\"fellow\",\"twfanmily\",\"member\",\"okay\",\"next\",\"definitely\",\"hanging\",\"figured\",\"mike\",\"situation\",\"jersey\",\"shore\",\"july\",\"4th\",\"fireworks\",\"dude\",\"dident\",\"starts\",\"trying\",\"shit\",\"k\",\"nice\",\"tweets\",\"try\",\"surprised\",\"score\",\"school\",\"girls\",\"hello\",\"thought\",\"proud\",\"face\",\"handed\",\"tear\",\"xoxoxo\",\"smackkk\",\"judge\",\"criticize\",\"says\",\"nothing\",\"umm\",\"duh\",\"told\",\"come\",\"cracow\",\"aww\",\"smurf\",\"talking\",\"lifts\",\"spirits\",\"give\",\"dope\",\"dick\",\"stomach\",\"eyes\",\"rolling\",\"toes\",\"curling\",\"reals\",\"sparking\",\"believe\",\"hall\",\"help\",\"us\",\"trend\",\"jaomikay\",\"kathrynbernardoasmikay\",\"thankyou\",\"cold\",\"40s\",\"fridge\",\"heres\",\"kids\",\"hate\",\"giving\",\"speeches\",\"gunun\",\"sorusu\",\"mind\",\"via\",\"old\",\"enough\",\"long\",\"lost\",\"family\",\"glad\",\"ok\",\"sure\",\"almost\",\"c\",\"nite\",\"meal\",\"cinema\",\"katie\",\"since\",\"bieber\",\"fan\",\"arnt\",\"many\",\"assumed\",\"team\",\"smiles\",\"chikaroo\",\"spanish\",\"every\",\"24\",\"hours\",\"fully\",\"sick\",\"dog\",\"super\",\"sexy\",\"gold\",\"show\",\"ladies\",\"fun\",\"shopping\",\"pleasure\",\"marie\",\"aware\",\"hyena\",\"nitrous\",\"oxide\",\"might\",\"confuse\",\"dm\",\"shindig\",\"x\",\"til\",\"moves\",\"san\",\"antonio\",\"weather\",\"pwede\",\"bang\",\"na\",\"malamig\",\"haist\",\"9\",\"19\",\"time\",\"book\",\"t4\",\"beach\",\"tickets\",\"excited\",\"wow\",\"forgot\",\"difference\",\"omfg\",\"1d\",\"came\",\"die\",\"black\",\"touch\",\"blue\",\"drinking\",\"cause\",\"cute\",\"aight\",\"sweetz\",\"adam\",\"west\",\"think\",\"forgetting\",\"describes\",\"jessica\",\"makes\",\"foreveralone\",\"right\",\"forever\",\"alone\",\"aha\",\"hahahah\",\"r\",\"awake\",\"hahaha\",\"join\",\"insommia\",\"lifeofcallcenter\",\"swiftie\",\"la\",\"whatever\",\"peasant\",\"embarrassing\",\"bet\",\"dadforgottogetkerosine\",\"trending\",\"worldwide\",\"stupidhashtag\",\"fckk\",\"yall\",\"titties\",\"big\",\"dd\",\"wishfulthinking\",\"angels\",\"guard\",\"guide\",\"way\",\"jk\",\"kimmy\",\"wen\",\"muslim\",\"rouninblogs\",\"stickers\",\"shirt\",\"comin\",\"soon\",\"rouninapparel\",\"rounin\",\"design\",\"simply\",\"amazing\",\"deserves\",\"kiss\",\"mhee\",\"slow\",\"blow\",\"mhy\",\"lmao\",\"weird\",\"true\",\"crazy\",\"relate\",\"stuff\",\"smh\",\"zed\",\"msh\",\"aja\",\"lipbalm\",\"salep\",\"kutu\",\"air\",\"miss\",\"nia\",\"yes\",\"hopefully\",\"grad\",\"wanna\",\"buy\",\"stop\",\"wars\",\"bought\",\"wear\",\"psychology\",\"together\",\"problem\",\"babe\",\"dear\",\"subway\",\"date\",\"workflow\",\"omg\",\"making\",\"avant\",\"baby\",\"playlist\",\"closing\",\"welcome\",\"sharing\",\"looking\",\"forward\",\"great\",\"stay\",\"fit\",\"global\",\"b\",\"blacky\",\"alison\",\"story\",\"getting\",\"hee\",\"xoxox\",\"thats\",\"article\",\"writing\",\"poems\",\"pycc\",\"toolive\",\"chad\",\"saying\",\"realthug\",\"lady\",\"streets\",\"freak\",\"sheets\",\"tattoo\",\"talks\",\"emmanuel\",\"mayo\",\"whewww\",\"thingsrkellysingsabout\",\"ready\",\"fa\",\"covers\",\"adventure\",\"laynn\",\"briefs\",\"instagram\",\"never\",\"smoked\",\"bring\",\"mom\",\"magazines\",\"mail\",\"smile\",\"imma\",\"bitch\",\"prom\",\"taken\",\"away\",\"either\",\"win\",\"girl\",\"righthaha\",\"course\",\"still\",\"reassuringly\",\"trotskyist\",\"95\",\"treats\",\"ed\",\"client\",\"baking\",\"woohoo\",\"cuz\",\"waystobeginsex\",\"hella\",\"guy\",\"tell\",\"ck\",\"much\",\"bay\",\"text\",\"could\",\"dance\",\"around\",\"idiot\",\"luke\",\"28\",\"lool\",\"banter\",\"board\",\"practice\",\"awesome\",\"bap\",\"site\",\"slide\",\"thru\",\"1love\",\"lyrics\",\"jus\",\"deffo\",\"certain\",\"kidding\",\"btw\",\"banglorean\",\"appreciative\",\"eddy\",\"hold\",\"excitement\",\"take\",\"jokes\",\"king\",\"shes\",\"meant\",\"queen\",\"ima\",\"icecream\",\"double\",\"strawberry\",\"happens\",\"alot\",\"opportunity\",\"bacon\",\"infused\",\"bourbon\",\"maple\",\"syrup\",\"mexicans\",\"change\",\"lightbulb\",\"juan\",\"joketweet\",\"anyways\",\"everybody\",\"passed\",\"exams\",\"alonee\",\"yess\",\"guess\",\"patient\",\"pays\",\"run\",\"imintoyou\",\"coz\",\"songs\",\"hasnt\",\"blown\",\"army\",\"strong\",\"freedom\",\"writers\",\"advisory\",\"official\",\"lights\",\"btr\",\"already\",\"knew\",\"albanian\",\"fans\",\"guys\",\"jackasses\",\"sometimes\",\"idk\",\"fave\",\"three\",\"shades\",\"red\",\"inlove\",\"ahaha\",\"watch\",\"rock\",\"anybody\",\"kinda\",\"bug\",\"ritika\",\"listen\",\"haters\",\"pay\",\"wannabeees\",\"snooks\",\"mean\",\"allowed\",\"use\",\"promise\",\"god\",\"host\",\"american\",\"band\",\"stand\",\"started\",\"careers\",\"yep\",\"cant\",\"awww\",\"far\",\"early\",\"nicki\",\"minaj\",\"starships\",\"agree\",\"said\",\"sam\",\"wanted\",\"joke\",\"daily\",\"hugs\",\"coming\",\"wish\",\"hotbox\",\"cool\",\"coupla\",\"hits\",\"goood\",\"free\",\"paddy\",\"fucking\",\"sucks\",\"least\",\"despicable\",\"reunion\",\"1dwebstersurfboards\",\"learn\",\"surf\",\"continue\",\"playing\",\"music\",\"knows\",\"avi\",\"look\",\"anime\",\"character\",\"luh\",\"yewww\",\"hoe\",\"seaworld\",\"queensland\",\"belly\",\"button\",\"pierced\",\"yeahhh\",\"indeed\",\"joking\",\"match\",\"beyond\",\"boo\",\"gorgeous\",\"cutie\",\"head\",\"part\",\"turns\",\"ages\",\"important\",\"mine\",\"wale\",\"sounds\",\"yah\",\"reminds\",\"ago\",\"working\",\"means\",\"trashy\",\"daytime\",\"tele\",\"hahahaha\",\"youu\",\"literally\",\"floor\",\"laughing\",\"tomorrow\",\"karma\",\"play\",\"game\",\"luck\",\"whut\",\"nuthin\",\"inspiration\",\"dat\",\"dey\",\"hangin\",\"behavior\",\"feeding\",\"meee\",\"fam\",\"pet\",\"however\",\"cannot\",\"credit\",\"garret\",\"start\",\"using\",\"able\",\"ban\",\"lifted\",\"anything\",\"wrong\",\"sleeps\",\"hittheroadjack\",\"aches\",\"hungry\",\"appears\",\"moot\",\"clearly\",\"late\",\"sounding\",\"killer\",\"hear\",\"body\",\"shake\",\"staage\",\"corner\",\"sammich\",\"weeks\",\"somewhere\",\"ether\",\"yo\",\"bc\",\"hire\",\"hitman\",\"rest\",\"peace\",\"clark\",\"years\",\"underestimate\",\"5am\",\"film\",\"across\",\"canada\",\"ottawa\",\"lots\",\"audition\",\"mybrother\",\"playipad\",\"deaf\",\"havana\",\"welp\",\"huge\",\"failures\",\"wahh\",\"fights\",\"pussies\",\"handle\",\"singing\",\"car\",\"perving\",\"mess\",\"glee\",\"hey\",\"gok\",\"fashion\",\"perfect\",\"liam\",\"class\",\"spending\",\"boyfriend\",\"winning\",\"reason\",\"aw\",\"lew\",\"fantastic\",\"grow\",\"methinks\",\"rage\",\"gingey\",\"worry\",\"turn\",\"frown\",\"upside\",\"conference\",\"boooring\",\"prolly\",\"5\",\"colour\",\"condition\",\"ion\",\"otl\",\"tiring\",\"preparing\",\"things\",\"swimming\",\"track\",\"meet\",\"popping\",\"tv\",\"fall\",\"asleep\",\"goodnight\",\"ninie\",\"segyero\",\"holly\",\"headphones\",\"outside\",\"commons\",\"nah\",\"banged\",\"3hours\",\"revision\",\"kindalethal\",\"hair\",\"normal\",\"weirdo\"],\"x\":{\"__ndarray__\":\"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\",\"dtype\":\"float32\",\"shape\":[1000]},\"y\":{\"__ndarray__\":\"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\",\"dtype\":\"float32\",\"shape\":[1000]}},\"selected\":{\"id\":\"1036\",\"type\":\"Selection\"},\"selection_policy\":{\"id\":\"1035\",\"type\":\"UnionRenderers\"}},\"id\":\"1028\",\"type\":\"ColumnDataSource\"},{\"attributes\":{\"data_source\":{\"id\":\"1066\",\"type\":\"ColumnDataSource\"},\"glyph\":{\"id\":\"1068\",\"type\":\"Scatter\"},\"hover_glyph\":null,\"muted_glyph\":null,\"nonselection_glyph\":{\"id\":\"1069\",\"type\":\"Scatter\"},\"selection_glyph\":null,\"view\":{\"id\":\"1071\",\"type\":\"CDSView\"}},\"id\":\"1070\",\"type\":\"GlyphRenderer\"},{\"attributes\":{\"plot\":null,\"text\":\"A Plot of 5000 Word Vectors\"},\"id\":\"1002\",\"type\":\"Title\"},{\"attributes\":{\"callback\":null},\"id\":\"1005\",\"type\":\"DataRange1d\"},{\"attributes\":{\"fill_color\":{\"value\":\"#1f77b4\"},\"line_color\":{\"value\":\"#1f77b4\"},\"x\":{\"field\":\"x\"},\"y\":{\"field\":\"y\"}},\"id\":\"1068\",\"type\":\"Scatter\"},{\"attributes\":{\"callback\":null},\"id\":\"1007\",\"type\":\"DataRange1d\"},{\"attributes\":{\"fill_alpha\":{\"value\":0.1},\"fill_color\":{\"value\":\"#1f77b4\"},\"line_alpha\":{\"value\":0.1},\"line_color\":{\"value\":\"#1f77b4\"},\"x\":{\"field\":\"x\"},\"y\":{\"field\":\"y\"}},\"id\":\"1031\",\"type\":\"Scatter\"},{\"attributes\":{},\"id\":\"1009\",\"type\":\"LinearScale\"},{\"attributes\":{},\"id\":\"1011\",\"type\":\"LinearScale\"},{\"attributes\":{\"fill_alpha\":{\"value\":0.1},\"fill_color\":{\"value\":\"#1f77b4\"},\"line_alpha\":{\"value\":0.1},\"line_color\":{\"value\":\"#1f77b4\"},\"x\":{\"field\":\"x\"},\"y\":{\"field\":\"y\"}},\"id\":\"1069\",\"type\":\"Scatter\"},{\"attributes\":{\"overlay\":{\"id\":\"1021\",\"type\":\"BoxAnnotation\"}},\"id\":\"1015\",\"type\":\"BoxZoomTool\"},{\"attributes\":{},\"id\":\"1035\",\"type\":\"UnionRenderers\"},{\"attributes\":{\"data_source\":{\"id\":\"1028\",\"type\":\"ColumnDataSource\"},\"glyph\":{\"id\":\"1030\",\"type\":\"Scatter\"},\"hover_glyph\":null,\"muted_glyph\":null,\"nonselection_glyph\":{\"id\":\"1031\",\"type\":\"Scatter\"},\"selection_glyph\":null,\"view\":{\"id\":\"1033\",\"type\":\"CDSView\"}},\"id\":\"1032\",\"type\":\"GlyphRenderer\"},{\"attributes\":{\"source\":{\"id\":\"1066\",\"type\":\"ColumnDataSource\"}},\"id\":\"1071\",\"type\":\"CDSView\"},{\"attributes\":{},\"id\":\"1016\",\"type\":\"ResetTool\"},{\"attributes\":{\"callback\":null,\"tooltips\":[[\"word\",\"@words\"]]},\"id\":\"1017\",\"type\":\"HoverTool\"}],\"root_ids\":[\"1003\"]},\"title\":\"Bokeh Application\",\"version\":\"1.0.4\"}};\n",
       "  var render_items = [{\"docid\":\"16b82465-6457-461b-a31b-90fe86bddeee\",\"roots\":{\"1003\":\"af5c70f5-b837-49ef-92cd-a7fccde71757\"}}];\n",
       "  root.Bokeh.embed.embed_items_notebook(docs_json, render_items);\n",
       "\n",
       "  }\n",
       "  if (root.Bokeh !== undefined) {\n",
       "    embed_document(root);\n",
       "  } else {\n",
       "    var attempts = 0;\n",
       "    var timer = setInterval(function(root) {\n",
       "      if (root.Bokeh !== undefined) {\n",
       "        embed_document(root);\n",
       "        clearInterval(timer);\n",
       "      }\n",
       "      attempts++;\n",
       "      if (attempts > 100) {\n",
       "        console.log(\"Bokeh: ERROR: Unable to run BokehJS code because BokehJS library is missing\");\n",
       "        clearInterval(timer);\n",
       "      }\n",
       "    }, 10, root)\n",
       "  }\n",
       "})(window);"
      ],
      "application/vnd.bokehjs_exec.v0+json": ""
     },
     "metadata": {
      "application/vnd.bokehjs_exec.v0+json": {
       "id": "1003"
      }
     },
     "output_type": "display_data"
    }
   ],
   "source": [
    "# Corresponding word appears when you hover on the data point.\n",
    "plot_chart.scatter(x='x', y='y', source=tsne_df)\n",
    "hover = plot_chart.select(dict(type=HoverTool))\n",
    "hover.tooltips={\"word\": \"@words\"}\n",
    "show(plot_chart)"
   ]
  },
  {
   "cell_type": "code",
   "execution_count": 21,
   "metadata": {},
   "outputs": [],
   "source": [
    "######### PCA ##########\n",
    "\n",
    "from sklearn.decomposition import PCA\n",
    "\n",
    "pca_model = PCA(n_components=2, random_state=0)\n",
    "pca_w2v = pca_model.fit_transform(word_vectors)\n",
    "\n",
    "# Storing data in a dataframe\n",
    "pca_df = pd.DataFrame(pca_w2v, columns=['x', 'y'])\n",
    "pca_df['words'] = VocabKeys[:1000]\n"
   ]
  },
  {
   "cell_type": "code",
   "execution_count": 22,
   "metadata": {},
   "outputs": [
    {
     "data": {
      "text/html": [
       "\n",
       "\n",
       "\n",
       "\n",
       "\n",
       "\n",
       "  <div class=\"bk-root\" id=\"eb0366c1-859d-4b40-aca8-c4ad78e3a0a1\" data-root-id=\"1003\"></div>\n"
      ]
     },
     "metadata": {},
     "output_type": "display_data"
    },
    {
     "data": {
      "application/javascript": [
       "(function(root) {\n",
       "  function embed_document(root) {\n",
       "    \n",
       "  var docs_json = {\"a62e8784-88f1-440e-aa7f-4c4764e688dc\":{\"roots\":{\"references\":[{\"attributes\":{\"min_border\":1,\"plot_width\":700,\"renderers\":[{\"id\":\"1021\",\"type\":\"BoxAnnotation\"},{\"id\":\"1032\",\"type\":\"GlyphRenderer\"},{\"id\":\"1070\",\"type\":\"GlyphRenderer\"},{\"id\":\"1124\",\"type\":\"GlyphRenderer\"}],\"title\":{\"id\":\"1002\",\"type\":\"Title\"},\"toolbar\":{\"id\":\"1019\",\"type\":\"Toolbar\"},\"x_range\":{\"id\":\"1005\",\"type\":\"DataRange1d\"},\"x_scale\":{\"id\":\"1009\",\"type\":\"LinearScale\"},\"y_range\":{\"id\":\"1007\",\"type\":\"DataRange1d\"},\"y_scale\":{\"id\":\"1011\",\"type\":\"LinearScale\"}},\"id\":\"1003\",\"subtype\":\"Figure\",\"type\":\"Plot\"},{\"attributes\":{\"callback\":null,\"data\":{\"index\":[0,1,2,3,4,5,6,7,8,9,10,11,12,13,14,15,16,17,18,19,20,21,22,23,24,25,26,27,28,29,30,31,32,33,34,35,36,37,38,39,40,41,42,43,44,45,46,47,48,49,50,51,52,53,54,55,56,57,58,59,60,61,62,63,64,65,66,67,68,69,70,71,72,73,74,75,76,77,78,79,80,81,82,83,84,85,86,87,88,89,90,91,92,93,94,95,96,97,98,99,100,101,102,103,104,105,106,107,108,109,110,111,112,113,114,115,116,117,118,119,120,121,122,123,124,125,126,127,128,129,130,131,132,133,134,135,136,137,138,139,140,141,142,143,144,145,146,147,148,149,150,151,152,153,154,155,156,157,158,159,160,161,162,163,164,165,166,167,168,169,170,171,172,173,174,175,176,177,178,179,180,181,182,183,184,185,186,187,188,189,190,191,192,193,194,195,196,197,198,199,200,201,202,203,204,205,206,207,208,209,210,211,212,213,214,215,216,217,218,219,220,221,222,223,224,225,226,227,228,229,230,231,232,233,234,235,236,237,238,239,240,241,242,243,244,245,246,247,248,249,250,251,252,253,254,255,256,257,258,259,260,261,262,263,264,265,266,267,268,269,270,271,272,273,274,275,276,277,278,279,280,281,282,283,284,285,286,287,288,289,290,291,292,293,294,295,296,297,298,299,300,301,302,303,304,305,306,307,308,309,310,311,312,313,314,315,316,317,318,319,320,321,322,323,324,325,326,327,328,329,330,331,332,333,334,335,336,337,338,339,340,341,342,343,344,345,346,347,348,349,350,351,352,353,354,355,356,357,358,359,360,361,362,363,364,365,366,367,368,369,370,371,372,373,374,375,376,377,378,379,380,381,382,383,384,385,386,387,388,389,390,391,392,393,394,395,396,397,398,399,400,401,402,403,404,405,406,407,408,409,410,411,412,413,414,415,416,417,418,419,420,421,422,423,424,425,426,427,428,429,430,431,432,433,434,435,436,437,438,439,440,441,442,443,444,445,446,447,448,449,450,451,452,453,454,455,456,457,458,459,460,461,462,463,464,465,466,467,468,469,470,471,472,473,474,475,476,477,478,479,480,481,482,483,484,485,486,487,488,489,490,491,492,493,494,495,496,497,498,499,500,501,502,503,504,505,506,507,508,509,510,511,512,513,514,515,516,517,518,519,520,521,522,523,524,525,526,527,528,529,530,531,532,533,534,535,536,537,538,539,540,541,542,543,544,545,546,547,548,549,550,551,552,553,554,555,556,557,558,559,560,561,562,563,564,565,566,567,568,569,570,571,572,573,574,575,576,577,578,579,580,581,582,583,584,585,586,587,588,589,590,591,592,593,594,595,596,597,598,599,600,601,602,603,604,605,606,607,608,609,610,611,612,613,614,615,616,617,618,619,620,621,622,623,624,625,626,627,628,629,630,631,632,633,634,635,636,637,638,639,640,641,642,643,644,645,646,647,648,649,650,651,652,653,654,655,656,657,658,659,660,661,662,663,664,665,666,667,668,669,670,671,672,673,674,675,676,677,678,679,680,681,682,683,684,685,686,687,688,689,690,691,692,693,694,695,696,697,698,699,700,701,702,703,704,705,706,707,708,709,710,711,712,713,714,715,716,717,718,719,720,721,722,723,724,725,726,727,728,729,730,731,732,733,734,735,736,737,738,739,740,741,742,743,744,745,746,747,748,749,750,751,752,753,754,755,756,757,758,759,760,761,762,763,764,765,766,767,768,769,770,771,772,773,774,775,776,777,778,779,780,781,782,783,784,785,786,787,788,789,790,791,792,793,794,795,796,797,798,799,800,801,802,803,804,805,806,807,808,809,810,811,812,813,814,815,816,817,818,819,820,821,822,823,824,825,826,827,828,829,830,831,832,833,834,835,836,837,838,839,840,841,842,843,844,845,846,847,848,849,850,851,852,853,854,855,856,857,858,859,860,861,862,863,864,865,866,867,868,869,870,871,872,873,874,875,876,877,878,879,880,881,882,883,884,885,886,887,888,889,890,891,892,893,894,895,896,897,898,899,900,901,902,903,904,905,906,907,908,909,910,911,912,913,914,915,916,917,918,919,920,921,922,923,924,925,926,927,928,929,930,931,932,933,934,935,936,937,938,939,940,941,942,943,944,945,946,947,948,949,950,951,952,953,954,955,956,957,958,959,960,961,962,963,964,965,966,967,968,969,970,971,972,973,974,975,976,977,978,979,980,981,982,983,984,985,986,987,988,989,990,991,992,993,994,995,996,997,998,999],\"words\":[\"logic\",\"dumb\",\"even\",\"crop\",\"name\",\"photo\",\"tsk\",\"put\",\"casper\",\"box\",\"looved\",\"battle\",\"crakkbitch\",\"thanks\",\"sir\",\"trip\",\"lil\",\"mama\",\"keep\",\"doin\",\"ya\",\"thang\",\"visiting\",\"brother\",\"tmr\",\"bestest\",\"birthday\",\"gift\",\"eveerrr\",\"yay\",\"lifecompleted\",\"tweet\",\"facebook\",\"let\",\"know\",\"please\",\"1dnextalbumtitle\",\"feel\",\"rollercoaster\",\"life\",\"song\",\"cocept\",\"yolo\",\"becoming\",\"famous\",\"3\",\"14\",\"followmeplz\",\"x15\",\"workin\",\"hard\",\"hardly\",\"rt\",\"hardee\",\"future\",\"coworker\",\"saw\",\"replying\",\"bit\",\"belong\",\"anddd\",\"cheer\",\"nationals2013\",\"send\",\"invitation\",\"shop\",\"line\",\"find\",\"everything\",\"need\",\"without\",\"leaving\",\"home\",\"woke\",\"finna\",\"go\",\"church\",\"agreed\",\"12\",\"days\",\"left\",\"tho\",\"monet\",\"katemelo\",\"like\",\"dammm\",\"lexis\",\"u\",\"got\",\"lot\",\"say\",\"ur\",\"twitter\",\"lol\",\"grateful\",\"today\",\"dream\",\"fulfilled\",\"heart\",\"full\",\"first\",\"completed\",\"tracks\",\"arrived\",\"back\",\"new\",\"york\",\"yeslord\",\"affairs\",\"shall\",\"later\",\"barca\",\"bout\",\"beat\",\"real\",\"madrid\",\"saturday\",\"doe\",\"parts\",\"asia\",\"especially\",\"rats\",\"live\",\"country\",\"grains\",\"supposed\",\"quite\",\"tasty\",\"sleeping\",\"shut\",\"cho\",\"ole\",\"sleep\",\"lookin\",\"ass\",\"worlds\",\"best\",\"dad\",\"ab\",\"jaeyay\",\"werna\",\"meeting\",\"khatam\",\"hi\",\"hojaeygi\",\"baaqi\",\"ki\",\"buttering\",\"baad\",\"may\",\"karaygay\",\"hum\",\"sab\",\"one\",\"doubts\",\"ability\",\"check\",\"pic\",\"outfit\",\"mid\",\"term\",\"impressed\",\"happy\",\"summer\",\"1\",\"work\",\"10\",\"30\",\"2\",\"ish\",\"shower\",\"eat\",\"till\",\"whenever\",\"nooo\",\"food\",\"friend\",\"16millionbritneyfan\",\"seriously\",\"though\",\"called\",\"vanity\",\"fairest\",\"chloe\",\"ill\",\"teach\",\"yous\",\"cook\",\"pros\",\"end\",\"im\",\"something\",\"chicken\",\"questions\",\"preston\",\"short\",\"nap\",\"mikes\",\"another\",\"hour\",\"answer\",\"q\",\"make\",\"em\",\"original\",\"friday\",\"payday\",\"4\",\"20\",\"hell\",\"yeah\",\"reasons2dothebirdmanhandrub\",\"thank\",\"love\",\"def\",\"get\",\"done\",\"plenty\",\"want\",\"framed\",\"lols\",\"week\",\"thanksss\",\"xxx\",\"ff\",\"good\",\"hilarious\",\"sweet\",\"kind\",\"loves\",\"toilet\",\"paper\",\"always\",\"made\",\"laugh\",\"needed\",\"apparently\",\"quote\",\"moment\",\"cos\",\"else\",\"uncertain\",\"louis\",\"tomlinson\",\"wait\",\"see\",\"notice\",\"follow\",\"bigger\",\"ones\",\"yougetmajorpointsif\",\"olivia\",\"brown\",\"ty\",\"well\",\"would\",\"sister\",\"christ\",\"truly\",\"blessing\",\"kingdom\",\"southall\",\"travel\",\"visit\",\"care\",\"morning\",\"share\",\"friends\",\"blonde\",\"yet\",\"picture\",\"dont\",\"thing\",\"plus\",\"bridge\",\"traffic\",\"japan\",\"nicest\",\"rivers\",\"oh\",\"drawing\",\"based\",\"waiting\",\"knowing\",\"fav\",\"color\",\"seen\",\"ask\",\"annoying\",\"p\",\"haha\",\"ooo\",\"really\",\"17\",\"followers\",\"500\",\"support\",\"ben\",\"kelly\",\"teamjessie\",\"thevoiceuk\",\"thatd\",\"hahah\",\"xx\",\"mr\",\"schmidt\",\"knight\",\"charmer\",\"day\",\"five\",\"gazillion\",\"times\",\"better\",\"probs\",\"hope\",\"going\",\"watching\",\"hehe\",\"bed\",\"night\",\"bbs\",\"front\",\"people\",\"kills\",\"martina\",\"gonna\",\"video\",\"call\",\"maybe\",\"boys\",\"laying\",\"little\",\"cuddle\",\"buddy\",\"tonight\",\"aahh\",\"sorry\",\"ace\",\"zuers\",\"holding\",\"midst\",\"midterms\",\"remember\",\"secret\",\"success\",\"48\",\"half\",\"fellow\",\"twfanmily\",\"member\",\"okay\",\"next\",\"definitely\",\"hanging\",\"figured\",\"mike\",\"situation\",\"jersey\",\"shore\",\"july\",\"4th\",\"fireworks\",\"dude\",\"dident\",\"starts\",\"trying\",\"shit\",\"k\",\"nice\",\"tweets\",\"try\",\"surprised\",\"score\",\"school\",\"girls\",\"hello\",\"thought\",\"proud\",\"face\",\"handed\",\"tear\",\"xoxoxo\",\"smackkk\",\"judge\",\"criticize\",\"says\",\"nothing\",\"umm\",\"duh\",\"told\",\"come\",\"cracow\",\"aww\",\"smurf\",\"talking\",\"lifts\",\"spirits\",\"give\",\"dope\",\"dick\",\"stomach\",\"eyes\",\"rolling\",\"toes\",\"curling\",\"reals\",\"sparking\",\"believe\",\"hall\",\"help\",\"us\",\"trend\",\"jaomikay\",\"kathrynbernardoasmikay\",\"thankyou\",\"cold\",\"40s\",\"fridge\",\"heres\",\"kids\",\"hate\",\"giving\",\"speeches\",\"gunun\",\"sorusu\",\"mind\",\"via\",\"old\",\"enough\",\"long\",\"lost\",\"family\",\"glad\",\"ok\",\"sure\",\"almost\",\"c\",\"nite\",\"meal\",\"cinema\",\"katie\",\"since\",\"bieber\",\"fan\",\"arnt\",\"many\",\"assumed\",\"team\",\"smiles\",\"chikaroo\",\"spanish\",\"every\",\"24\",\"hours\",\"fully\",\"sick\",\"dog\",\"super\",\"sexy\",\"gold\",\"show\",\"ladies\",\"fun\",\"shopping\",\"pleasure\",\"marie\",\"aware\",\"hyena\",\"nitrous\",\"oxide\",\"might\",\"confuse\",\"dm\",\"shindig\",\"x\",\"til\",\"moves\",\"san\",\"antonio\",\"weather\",\"pwede\",\"bang\",\"na\",\"malamig\",\"haist\",\"9\",\"19\",\"time\",\"book\",\"t4\",\"beach\",\"tickets\",\"excited\",\"wow\",\"forgot\",\"difference\",\"omfg\",\"1d\",\"came\",\"die\",\"black\",\"touch\",\"blue\",\"drinking\",\"cause\",\"cute\",\"aight\",\"sweetz\",\"adam\",\"west\",\"think\",\"forgetting\",\"describes\",\"jessica\",\"makes\",\"foreveralone\",\"right\",\"forever\",\"alone\",\"aha\",\"hahahah\",\"r\",\"awake\",\"hahaha\",\"join\",\"insommia\",\"lifeofcallcenter\",\"swiftie\",\"la\",\"whatever\",\"peasant\",\"embarrassing\",\"bet\",\"dadforgottogetkerosine\",\"trending\",\"worldwide\",\"stupidhashtag\",\"fckk\",\"yall\",\"titties\",\"big\",\"dd\",\"wishfulthinking\",\"angels\",\"guard\",\"guide\",\"way\",\"jk\",\"kimmy\",\"wen\",\"muslim\",\"rouninblogs\",\"stickers\",\"shirt\",\"comin\",\"soon\",\"rouninapparel\",\"rounin\",\"design\",\"simply\",\"amazing\",\"deserves\",\"kiss\",\"mhee\",\"slow\",\"blow\",\"mhy\",\"lmao\",\"weird\",\"true\",\"crazy\",\"relate\",\"stuff\",\"smh\",\"zed\",\"msh\",\"aja\",\"lipbalm\",\"salep\",\"kutu\",\"air\",\"miss\",\"nia\",\"yes\",\"hopefully\",\"grad\",\"wanna\",\"buy\",\"stop\",\"wars\",\"bought\",\"wear\",\"psychology\",\"together\",\"problem\",\"babe\",\"dear\",\"subway\",\"date\",\"workflow\",\"omg\",\"making\",\"avant\",\"baby\",\"playlist\",\"closing\",\"welcome\",\"sharing\",\"looking\",\"forward\",\"great\",\"stay\",\"fit\",\"global\",\"b\",\"blacky\",\"alison\",\"story\",\"getting\",\"hee\",\"xoxox\",\"thats\",\"article\",\"writing\",\"poems\",\"pycc\",\"toolive\",\"chad\",\"saying\",\"realthug\",\"lady\",\"streets\",\"freak\",\"sheets\",\"tattoo\",\"talks\",\"emmanuel\",\"mayo\",\"whewww\",\"thingsrkellysingsabout\",\"ready\",\"fa\",\"covers\",\"adventure\",\"laynn\",\"briefs\",\"instagram\",\"never\",\"smoked\",\"bring\",\"mom\",\"magazines\",\"mail\",\"smile\",\"imma\",\"bitch\",\"prom\",\"taken\",\"away\",\"either\",\"win\",\"girl\",\"righthaha\",\"course\",\"still\",\"reassuringly\",\"trotskyist\",\"95\",\"treats\",\"ed\",\"client\",\"baking\",\"woohoo\",\"cuz\",\"waystobeginsex\",\"hella\",\"guy\",\"tell\",\"ck\",\"much\",\"bay\",\"text\",\"could\",\"dance\",\"around\",\"idiot\",\"luke\",\"28\",\"lool\",\"banter\",\"board\",\"practice\",\"awesome\",\"bap\",\"site\",\"slide\",\"thru\",\"1love\",\"lyrics\",\"jus\",\"deffo\",\"certain\",\"kidding\",\"btw\",\"banglorean\",\"appreciative\",\"eddy\",\"hold\",\"excitement\",\"take\",\"jokes\",\"king\",\"shes\",\"meant\",\"queen\",\"ima\",\"icecream\",\"double\",\"strawberry\",\"happens\",\"alot\",\"opportunity\",\"bacon\",\"infused\",\"bourbon\",\"maple\",\"syrup\",\"mexicans\",\"change\",\"lightbulb\",\"juan\",\"joketweet\",\"anyways\",\"everybody\",\"passed\",\"exams\",\"alonee\",\"yess\",\"guess\",\"patient\",\"pays\",\"run\",\"imintoyou\",\"coz\",\"songs\",\"hasnt\",\"blown\",\"army\",\"strong\",\"freedom\",\"writers\",\"advisory\",\"official\",\"lights\",\"btr\",\"already\",\"knew\",\"albanian\",\"fans\",\"guys\",\"jackasses\",\"sometimes\",\"idk\",\"fave\",\"three\",\"shades\",\"red\",\"inlove\",\"ahaha\",\"watch\",\"rock\",\"anybody\",\"kinda\",\"bug\",\"ritika\",\"listen\",\"haters\",\"pay\",\"wannabeees\",\"snooks\",\"mean\",\"allowed\",\"use\",\"promise\",\"god\",\"host\",\"american\",\"band\",\"stand\",\"started\",\"careers\",\"yep\",\"cant\",\"awww\",\"far\",\"early\",\"nicki\",\"minaj\",\"starships\",\"agree\",\"said\",\"sam\",\"wanted\",\"joke\",\"daily\",\"hugs\",\"coming\",\"wish\",\"hotbox\",\"cool\",\"coupla\",\"hits\",\"goood\",\"free\",\"paddy\",\"fucking\",\"sucks\",\"least\",\"despicable\",\"reunion\",\"1dwebstersurfboards\",\"learn\",\"surf\",\"continue\",\"playing\",\"music\",\"knows\",\"avi\",\"look\",\"anime\",\"character\",\"luh\",\"yewww\",\"hoe\",\"seaworld\",\"queensland\",\"belly\",\"button\",\"pierced\",\"yeahhh\",\"indeed\",\"joking\",\"match\",\"beyond\",\"boo\",\"gorgeous\",\"cutie\",\"head\",\"part\",\"turns\",\"ages\",\"important\",\"mine\",\"wale\",\"sounds\",\"yah\",\"reminds\",\"ago\",\"working\",\"means\",\"trashy\",\"daytime\",\"tele\",\"hahahaha\",\"youu\",\"literally\",\"floor\",\"laughing\",\"tomorrow\",\"karma\",\"play\",\"game\",\"luck\",\"whut\",\"nuthin\",\"inspiration\",\"dat\",\"dey\",\"hangin\",\"behavior\",\"feeding\",\"meee\",\"fam\",\"pet\",\"however\",\"cannot\",\"credit\",\"garret\",\"start\",\"using\",\"able\",\"ban\",\"lifted\",\"anything\",\"wrong\",\"sleeps\",\"hittheroadjack\",\"aches\",\"hungry\",\"appears\",\"moot\",\"clearly\",\"late\",\"sounding\",\"killer\",\"hear\",\"body\",\"shake\",\"staage\",\"corner\",\"sammich\",\"weeks\",\"somewhere\",\"ether\",\"yo\",\"bc\",\"hire\",\"hitman\",\"rest\",\"peace\",\"clark\",\"years\",\"underestimate\",\"5am\",\"film\",\"across\",\"canada\",\"ottawa\",\"lots\",\"audition\",\"mybrother\",\"playipad\",\"deaf\",\"havana\",\"welp\",\"huge\",\"failures\",\"wahh\",\"fights\",\"pussies\",\"handle\",\"singing\",\"car\",\"perving\",\"mess\",\"glee\",\"hey\",\"gok\",\"fashion\",\"perfect\",\"liam\",\"class\",\"spending\",\"boyfriend\",\"winning\",\"reason\",\"aw\",\"lew\",\"fantastic\",\"grow\",\"methinks\",\"rage\",\"gingey\",\"worry\",\"turn\",\"frown\",\"upside\",\"conference\",\"boooring\",\"prolly\",\"5\",\"colour\",\"condition\",\"ion\",\"otl\",\"tiring\",\"preparing\",\"things\",\"swimming\",\"track\",\"meet\",\"popping\",\"tv\",\"fall\",\"asleep\",\"goodnight\",\"ninie\",\"segyero\",\"holly\",\"headphones\",\"outside\",\"commons\",\"nah\",\"banged\",\"3hours\",\"revision\",\"kindalethal\",\"hair\",\"normal\",\"weirdo\"],\"x\":{\"__ndarray__\":\"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\",\"dtype\":\"float64\",\"shape\":[1000]},\"y\":{\"__ndarray__\":\"r2uQjpQB+D+Bqpdj/p34v6I72/g8n/S/2+TZ1sZk4r9TMFxeo7T0v5p/JDNnC/4/VN164PQ94r++pfDtOLzxvz4nfyyD0ea/ld5fBhvEFECjHOgj/yPov/njnQu1G/U/C7jwGIi55793KQzLOCzaP82IG1rMF8s/+JWGM7mU6z/tT5Qjenn1v51XmLmFse+/IsuAGPO2/r+J1ZiDFtPjv5eee22Gu/G/C1FTR32b3b8Gw88D4k6+v3Yi9GoNatY/aA94JfnPvL+pRZb2chzOvx2m+Fg66QpAq7Vjy1UJBUCGeHxEoV/ov2et9Br+8OQ/o5suGeNX6b8jtZx48RDiP9aPo2AEetS/C8W7Q8yy8L+A8u1fBHz4v8JO7MM7kwFAzNP5I4AW4r8+D0K6jfH2vxj6BkTBb+K/HUNlgLkN2D+0bCpu+C3hv5BevtkCfOe/iSS0G/ri5r+7OWm1Mc/Pv8TSbzn9/5w/J97lw0s5EkCJ0mAqqr8VQCmrW/nGIOa/MGPXR9Si5r+l6PwhHWHUvzba7ZrukbO/Y/MRVlvY6b/0K9vn41Pvv5R9Hm13R+e/jncf8zip1T+WYtyWQlriv5RY1PpHkeK/5RyeAcPj5r9BXk6Ps+bzv33PTvJF8+C/6F7HySqe5b84puXG4MTgvw40oOpLf+m/i6ES+CKr9r//kNo4VF/VP0Lcl8DQ/ec/g5mcwWF3AECi/JFJDzHsvyDRjJZ66fe/fspjB6/Iy79Hvv5TgO7hv2HWG5sqU8m/JrD0KXRV+D8eVUfgek7Tv4kU+DFuBOm/DEo5MLrC1D84RARLl1zTP6h3NbQ2WbW/IhWWPuYVIUDLPtjGmdEKQKGO1LXJxvQ/Zm7u7Vbc+7/LdDEhw3/Hv/dZaKbnQui/pISgItB5178UBTSvkf/nv+u7WXryZOi/4PZV8gac2L8H775M36jgvzULDgoNWdo/Dm2i1AcW/b+2mTZFm8f1v9r3TKiDQ/S/Zo0OOgyHA8BkPgcBlhPLv1lw2yXwEvE/8NJFDV4/5z94ozbtIw/jv3yRS5rDTvW/RY/Zg28cCkBDmKaGdnUEQDfgxB0vqNi/nWYSFiDsAUAOKe4FcmjiPwgTXqP9D98/2fmvOX/3DUAqy1GomsYDQCVH95GDrOi/VKJQmUzD1b/YBWSwysfIv7/0FEILRs8/1MKiR7twsj8bpvm01KMGwHuGlx1nmte/YRDhqFm1878F5Zkqff/DPwhvB+7OEvI/QW0NZXlE7L9GbqR0AMAGQKZr9ASnwfU/gc56ApIby7+2RS6T6STmv4QOQodW3vs/K0t2T/Z85D/cklJqZh3Jv8F3n6KyieC/62YKAvP27b9poxDvyZ3Jv7jj6Vurrda/aSst3z9P/b/YfOlNA3Dlv4dHwi8bsdW/SSRnIUNN5b81HafzXhHovx5IdTVZrQ3A2rbovip85T/4A1G1PkgFQD5YBe87SPi/lNcPye8oxj/FJ6nCCizov8mxrooo1ue/17BRViY94D81xGtdsyPnv3N7nEYD/fg/xFBJZNko579Lfv4IFK3mv8J1nBXHTcI/iSsPwRlZ5r/r/zHDlIvmvwZHNvOoFQdARCcYPjws579USZNODeTWv28pUhqrSOW/Yv/cCv2O9D8MVROdmB/qv/KxHsPEIsq/F4qbHgu2wj+ncs270zzwvzXFSxBpncW/NN5Wjoo48D/e/zGAQDjjP+g/Hs8Ksd2/tuMutE3nA0BjyWg0D4zwP8Bq6PTatCFAsd/Tt/ES6T+DNMk5VOAhQHTtG9SVTBpADMIqtkw6GkCm9FyPN6DEv0/YRS/1t8y/bfEeoDwg9r/Ly6E+LygAQEyc6WgzJOq/cC52xKCE+b9RMGFqOILmv+ebByE0luS/k49ao/po6b8SF7nLduf4v+rzLEq2X+q/ijSpz9Cb8r96yWd/fjHav1XRDzDdiOm/5A7wL66X4r/l2V2wFQjevxFXH0RzwbQ/R7vXMMMZ3b87LB7lUFDhv79YEiNuVuO/YI2MNQ599z+TN10Z1oAFwAkHCTYOygLAzrntCFpK3D+Nex+wZ43Sv3KATEK+yuK/+sAP5ZmI8z8ld+xmNBjQvxrAyFzvSOi/V2YPPT9U9z8YOQykq2oDQPUaqd5HWOG/dOsJAt5y8z/LpIxwVnXaPxs70aS1oPu/wm3OGX0QDUB5MU+cRBX2P3UH5COhV+C/LOTrrzQOH0BGK93y9x0YQJ9pQ+jYkAHAjYBX5vEO9b92lyvJjWHqv0pBMSDpIPY/9oeBjYkg0z/fYphk8EzUvw5yWb36GOG/wWUcgK394j/3nPL1cfHBP9iKQx9z+se/IuL4UOYZyb8ou6efw6njv2uXou3U4vg/XS/D+AlZ2b86Wb3JIG7nPwZuibPJvOg/RG1fptyE4D8xjCNQqXHVv399RrbeGeI/gfXg0KDb6b8TDpSw0e+xvwHiZP5CgYO/fH7/wHkZ/j/Oj9aoihn3vw3KtY5mx/c/XW3SKHF7979qb0W65yfSv5KifHib9+W/jhADMm7Gh79a2neMFtPovy4/nFa8hfi/p48ui+5mAcAKy99jPT/hv583ROyeJ+c/JhuQGHn947/bb0t7uFT1P+a/kGRa9dU/q+3H5JIY+T9IBM/CVp4FQNyqKJsPudi/HNr+wGxM7b/NXrw8Qkrxv5QUd1Nc8cq/aiF+lrxHBkAPLMjK7hDSPxdf4yjnze+/cH7Quksfyr//HqDOAMfmv7M32f0FPsc/o8m/AHz6k7/H6ZXh+J7ZP0CYEpgN1NA/JuJvRx0t6L/4nS66PLgMQN6pZS5HIt8/GZOjGXzy1r+DXyC3hJ7hPzyBvQpM0gNA6c/laaJ3l7/3zDrctFDmv+ZH8/JRN7+/qhNyvmXP/7+rq3qPVLIBwOCSt1g9Lvm/zBEi96yZAUDA3dBeryLWP1Vh9EQGpNA/R+HC+Auw7j8l6ZgaCVviv2bw3W2OOdu//xzXf0XR+79sBsaiOvDBPwZlI5ngyQFA129CYVDW6D+v4KwGiRjhvw/D9eJKYMk/8WYYySaPFEDaAg7Ul/TBP3x22q3ULPu/M5O8FhdU87+XuaEHvEWuP8ng0iRxz/q/aKc6yel+6L/c6dtNYInxv9SadOgeGRdABMQ4TMGUCEBE3O8n2TQRQE7IcR//y/0/D1MXjcj01D+xDfJGnSG7P6aQRnd1Oui/sRG+SBL+5L98+wIh8yDrv0CjKLyGvPu/QWHiTdUn+T/S2BxKar/TP9c5wmsXa+i/MRg6Qg1L0D+8WUNnYsbnv6wcQ+CQJfo/NNCfbqKzAkB8TnNnKDLnvxdabgy3dPE/1FcTWAFI6z9g5Yvbpq7Zv9v7vFmW3PE/nSUMDL/mnr/IBlOY0B+6P3nkmH0gEem/uiEhi1sD5r8tQlT7r3WpPw2E/XqPId2/W9S87VVd7D9frMOI/rvxvwbmKONJSs+/ipTdAWKb6b/Oe/LklrfZv5htbAi3DRBAnpzCf3zG+r/qTPmZj5juv90usOp9UOM/Pc/8MYSS4r9FsfH3ED/iP/nxjKlPee+/KfWZ9T+/4r9DCEFFosbnP+1l3dmBCui/rLy+0udx/r/0LlJuJZ3zP9iyDGO8BOm/rioPDdZN3L8afT2joJvjv/JQN6kEoOa/+G1j0b1X679NTHpfXGbTP+5yrH+jQuc/0ZTucrQ7DkAyRWbs04sCQGkSB2uc0LS/hsOFHXZFxb9EH8f6UCPTP9dUxfESTwHAap+pDcgfA0Bjbw4D9ULwv59I4Lwl3bY/+3dk4EGS4b9EV0BBuNLLP8xMknBfXuW/yBbxTD6M8D94X3TlDTpjv3eePACGDPc/B2Ol6A19+z9+dSdJxKnfv4tmXyCWgfu/zeCi8tQU6b/5LjqQtsTjP2012d7Ylu+/clVE6ccYDMAQ8wK+RDb8P7xXIC56ftG/TMpFc7lR3b/+0mZphNf4vxHU1MQeJOW/jwHVP3Nh/j/9+PCA3+zcP9Y6EFu+ZdM/8+IQSN6z2D/rprQIW5j/v2sYg+Nvfew/RWxFRVRUAcCB/VEYfsnVP+sofElLQcm/g5SDaEqO4L8JpdCKMoHpv1akoPInyeS/wSqAcD066b85G7rn0yf5v0ywuzrSvfy/0GtoXBi66L8SLdCK8rLgv2gLC0gpQgPAh98Vx/CQ1T9GGJbED87ov3UmQPWr/PW/sf/qB/Ig5r8IwZd1Qqz+v3+n/sw0nOK/WNleCJlytz/2pR4lc7/YvyQeIyRe08G/oJBRxeov97/ph/3e+tj3vy77bWAxH/S/IVwMphh05D+/dPyk6rrav7ap3OmeUOG/CqkYDpfE57/mCOMfCJ3mv2B/uco/3Nc/v3DjxP1w0T8P+MbcGLTQP42QpT+8Xfg/zd6bzrg8yz9iXK+SDt7nvxlcFQLsmOe/qcrB9xOqsT9i1LQrrGHav93f4CzJmOW/9nYDv+z82r/1g2zh8jzivwrnrKiGcNs/+T5iMgmX+7/83Cu7ipThv2J5SLLscOO/Zpw2ILwh6b89i46z4Azpv1wxy0FNbfq/FVuRlRba+T/tpiMtuTsCQPZLd3aJNOW/qHDQ3p2p9j+H5nr5JAfhPyEyFbNcS/E/kfHGyt/G4r9gW2mZyyfyv+CCQsWGvsS//yb08rPq7z/Er+i58GIGQD5RTJuHDNI/YJ4D8jdcwz/gwR7A9Z+sP++5CQmGo8O/y2jpP15S/D934Zm3nj3Dv3ZaMFzCq/s/p77QESZ65r/e47Y6Czv1P5QhK13NQ+e/8CjDUYm29T8NtjOedbnev75JH5LWbum/fhrhBSiXxj/wssk+B9QAQAroWpe38RpAQBO1j65REUBcAQM+cwEBQE0HTBOGtvW/w0kFrIje4L89Pbjsb6P1PymsvWQSa/m/c/yyR44AEkDrysbKc3/xPzpCzreBDPA/FvAPiL1V7j/EeEnWFO/RPyJgf068ibs/2j1DMvDy1L8GNI4bbbjZvyNdLzJGS+e/iY1Yu4uV5b9a8U3xzRbcPy1j5vSDF/C//mi81QdI5b+/gwNw4gW+v7TDQIbjHOe/Zz1cfH6ZEUBVCF1aMkrvP7iB9iabGpE/lAwZg6rW+T85iLQbx+rRv91JZPOdKNG/bR18xLd+47/yDStcDUyZv5DHG+0V6Oa/aND+ONmH6L8Z+5XFCcDov/a74oM9kx1A+hmnvHNbEEBqR2aIKeXkP4uceFOj8Q5ACnuMyS/Q5r8LLDUJF7nnP4Ov+ptM7QNAKyHwXKGO+j9xqk8cudvov27jRiU4xfS/jQnLNx1Xkz+F8QQH7VPiv7YetxcSHNo/h0r9WpHt4L80+Xd4GtP4v/O0xH2wiyBAI2abXcbJ+z8WcmzYbWEWQMPCNapHUM6/BO+qM89O/L9gKbbINCb5vyz2Wyd9ceW/H5J/q4oG67/Ntk3j91jeP/Q/LnUV4e0/VoPGpT1p9b9fSIuF+yLdvzs70oJBRMQ/AI+joPWM0D+zw+HMTn2Uvy9reQ2i6Ou/OojyQYto8L+zKzC0VvXkv1xmLU68Wfi/pN4n20h1979vapbWMIjmv85FjlbgTgBAO3Io21xv4L+XtK3AULkCwGoXoPGFwNk/1ivSQbdI6r+81XVFY4LpvwknlyQJVdq/qe6OkcY7s7+XtBpCsjD3v1WIAxWEeOO/3EUVbBGi5b+pz4oe5tzwv07kr8JJ2+i/yu6YwtGh0j9rbRiAC0nhP3BTjl7kMOm/e49zhA6t6b9cy6t2z730v1q7LEAvnea/Q7j14QXT1z+AhMEmb9DQv6A6XuKMp+a/RnIOJYQlwj/O4LpWC2PZP0pDGyA24g1Ak5rPysHY6T/wJeIjM3sBwDqZkxN++ue/3+fEb6Ac8b+xlFKGfkHKv8rlStBAz+i/zqvlwJv25j+Xi9uheev1P7/0u2/lgti/h2egJd0M1j8QJu7l73npv6cAinrraOm/IoxKnXt2EUDDbxnBa6fnP/E5Cq3NCf0/p1Pe1GKms7+wULluZ5rwv+LN9lxnZOa/xJNcC6kapj9t8d1/1X7Lv/hHUATiP+i/jMLlRY84CcAGCJHSrU/+v5ajFBYd8Ne/LW6l7MPc9L/y9obXe1jmv1wSGH4TKfK/sRb212OvAMDMH5Ef4vvmv/UnIGLdU96/uNrhyf0RxL8VClhRYYPlvybQ9/Qqf+a/wunt5pJK5r/SWhCV53oIQDLEqxivVce/nv+gS0+c4r9fQVgzGsHwv//tRkNql+A/zaeTp7h+xb9wyLiR2wrxvx5ATRXdmdY/uxyAQj5qCsBfzm27MWz2P0ZYhDpaa+M/hQ6H804Z77+PdhIu65vJP5nVDjZ2XJC/NHZV4WKX97+0YvGAW8Xgv1HATk/gkOO/wuD6FU0Xz79OsTttpDP/P990GWNKHeO/VhH2sLQa/r+h8BKlunbhvx+l98xD8ui/hXi2+wGB3z901UjMbnnJv6O9S7M9ntS/HCSUDCTR5D81cq5bYuCoP19CenYuXPO/WzhKMKxL+T+1863rudAJQDa63FWZevG/dD6SiCIQ5D+yJtMipv/3PwyctmsVSgBABfHp3+7t6L/fhfURjpjdvxrrO+mcp9s/m9rt4LSl9b/5IbAVyy/dvySZ8zrOr9q/CR2j1jajAcBwgnggLI/1P3ofRaILBdU/8qjPfF890z/ccquzjjHovyXGb4G39Oa/2BLqr3c34L+s9+bC4Db7v597dOse6ui/KA0HHCu93L9JWNpZGVXEv0pa5g7IgeS/nTViaLjx7D87Hiawk8y+v/uL6P3Z/8Q/ThxV606Q579FUDugK4Xivzp/Sj6Ygei/ocqdcUn16b/XKEbmpmL+PyqqdKhAq74/9l9YX0ex9D/HJqkmj/sCQAByFayGkui/3GAkVBCt1T84bxRHyXfKv2KgjD1i4uy/3Y34zNtNpr+I4AWTg9TXvzKkovSMCvO/dmkmVw7n3r+/bonTR4+/P1s4uPTp+/G/WS4e6sdq+L8FwY66aYUNwMV2VPwXp9O/4rDGZ0HT4r9H0PaT0JzxP/TWFjMYMvK/2vPxO2Wc+z+/5MpoACLzv9ZVOrjA+eq/IRiIGnb1wL9OiYKB8nfmv4rbBl5tN+i/0qpOowRY579R2QxQ5OLxP41ZcyjXH9w/xnEidfiR6j8dgxF8IaCzPxbNnqNISuA/HxeuOiLos7+s+ZvHUFj4v8WulElfCuO/AiwmmRPX6L9lfm/fOkb5v281ud1FqwDAns5mMEkR4b9fHizWfIzfP1C+UPF3RvM/nnjHLFbH+78lu29jpBzaP2dal1xBj8i/MaihanFf1z/qhD3ZXRHQv6alVj96gLG/2us2qoJ9DECFYywjn+70vwIyJLR8hOC/3XUJjEsIDkB8aSL2q87oP+u51RSOhus/vQmCo9ip5r/1ZIx7JmHhP8WdinUx2sE/X4U09zOJsr+2OR++4ankv4nIk+5ExLC/56ms+mPN/b8UjTFADaPkv5Lmy4ptuN+/EboJu0os8b+NVwb8SdulP48bZSYzkOm/EkyA2ITo57998oRz+gLovzMIhlru3/G/r3dAscrD1r94Q/Pntrbhv7McIiNgEuq/JlCY2Eh76T/7Q36G7Izsv+k3ARcK0vG/x/9L8HFK6j9q9Nyn74r3v1A4Kb0tTuC/c99GV2ZKCEBV9NxcPAHmP9WtDdQKk/K/w9CRguSB6b9F7eQYA/7VP4+JHooF/Kg/PrgLgEfq178yz2nzwxbjv8EcpFiwu+A/3AXSoDHzvr/kF7uWTbblv7836xca4e2/axymLYUF5L/ofz6fjLvev3NNQ0I0Mui/JUjG9MHJ6b/gCRJu6EHzvzJSONkdnfI/NlZRyBCl5j9mLi37IaHnv3ZuU1Bz+Oi/N738JXCF9L/2T2hDMFnVv/4locVFzKq/hhfp+/lz7D97VkozAJ3ov96TivQFheu/5A1/x4rK4D89LWHR10rkv50DoLuB0dO/UYIpREi+7D+hMRL/IuPVv9Zly0a2Uuo/7ptagBXj4z/9d6Yk09rev+ixJIXR0AFAazf9bvTc5z8ihdwQ5Rzfv48FznxyJNw/joQ7pxfq8r8LbwCka2Ppv8Pug3tk/AJAHM9gg5RX0D/AnL6BFQ3qv/RwFNv8Eve/aaTUgb1sAsCWdRGbeTC5P9ijZEjmpA5AqFnYKERm4L+kkBnSspsMQH+Jo+h8MOW/kDgPPeO6578MvBqGpmnTP6lQvqRIhvk/iV1BeTMC5b+vhOXfzHT7vwZJ7PPFBs+/BgpcBSZY6b9f6znt21Lwv9A9BpoFDOS/hLIkVwLh4L/4asm2p7jov2l0xhHcCOe/DrUohTCv+b98cN6LI9rav4Gluc+UJKw/9Lg13X3ecT/5+XXvYCXkvzGr5Bym2qU/ZMXFQT/eBUCuMssO5gr7P4rFflqhPe8/gy5YxUjRw79bhd95rmnev683CVW6auW/MAYhXalL578xGrM/kbL4v6aGzowCKuY/sdfWIp3m9D8/3zzjMzzYv2th3YjA+92/Did1Kk6Y3b/1KDft0v/sv5/fx9WeAwLA8PsjroSzyr9j0r/MwK7tv13mXe9IYvi/otJkryxF+D+TnPS6gsnKv+yy5x/tL+c/Hzn76sXF5T8mp1oF02PovywMvDY7Yue/o1NI2Wlp5b9FwnAfl+jxPyA6MO+7CJu/kKgZ/bS9C0BzSfRBsgjpv8Z9P+kJygPAHaG2GUES9r99sXteAIS7PxP/EHAQDeq/7ebIMHoqw7+W0r6bhyrjvxfGkCI/I9q/mHYmT41Nkr9GHFGHwybfPx/3K2KqVuA/3k3/cTXW9D/cVhFYvUn0v35lujfO5uu/5RouJqGz+79/K6ie0lbVv+0N4Y5CJds/tLauxHOK47/QLBBWB4zov2X7LL+pU/W/b0X/FirE5797+gr+WWvkvxYP9Q5F0dO/90H3otKa6j+K8/44Pbzkv85fXnNUAOK/bQh2yYLI0r+3hO20Oxzsv4NXdL6KnuE/aQHrIMvh4z/AWVKlgaTuvx4m7lmeZsW/0nNvyRp4lL9k979/effYvwf1nS58hgNAeKxDp70uub8o4pXCcjbmPytsS9Txm4I//9nzGcTt2b+S8VafQmrcv8ScVrXfVfK/kiWAWYZF0L8BNXxWXb7Lv+NcPfPH0BNASb2lRC9Bqj91yTnaH1+lv1WrPSOUIOS/i7vvluUY5b8q6CaVwmDov4fjCIOVNP6/jDmxyjFZ4r+0EegcTmbpvxdLOlrXxwBAKt87Ub6v8b+s+JtDS+fjP2r1s8a5vd6/qUOIGpo73D+V67waqywDQE3UlIhwovY/Sf2CfULI6b95Bb/6q2Tnvyu0P4jOa9s/Tm78TSZt+7+m7JZh8Rnuv7U8aKBv5ea/Nn2ZvBfz1b8zB8glcnB6vzdFHC8K6dq/66/PlAyOuL/L8Jc56t/xP4J5yrn1NLA/uSFUVtd50r/VXb3NOZhkv1NkUXcHXOq/15vzvj+Awz/Km96NYZfnPyozvocLyNy/A+m7b9Tl0b/LXN6lW/jgvyfwpnKu7/6/T4ifvk1BBcCXSHfk/qbdv6a1sHiOb+i/dGcTcl9y6b+bbill5cj8v9qiAc7sKdm/+sr8ApjD6b9pYys7rZzjv9pDgiKNAMS/+bREWmlRyT90ZsVOZRzIv0497th7tfS//gmB4wjv5j9MO2kTvRO/v4S2ZsLXWum/wF1xmwcC5D8mvoHIexrqv/ZYMaWZHgVAN1g0WMtS3L8vrZy+p3rkv6ekuv+tJgfAHGxB1URH1L9a8ACwLS2lP4KthSup9Om/+mu2TpsD5T9wyPHjuMzKP8eKRHXP5rq/VFRkEGssE0DKxSguw6Tnv3Kgun2SN+C/85f7kUiw/z/IVhU2mhbPP3CLmtBEiuw/V9XbVWZOx79Lo2TdglvkP17yYBM2cOG/udGPgQq06L8sbudjILHov/CsoFpqcN+/UiDwcd9H4L+P8t4GwQTjv4Eq/ydCDbE/Adw4IO3J6b9VVJBrJFjfv9Xt+lE8b+G/w3qdLTL757+rBPULSkrwP5ID3Pw4fsW/lkAlmJXe4z8Avrw9Fabqv8o8RIflr+y/ZAH1O3oCgb80LRPVkujjvxYMOyuw/+i/oopfXTsa9T9PpyibrzsCQO4sZmZ5mfE/PddBh3262T+rzTNmkzToP63ZAOJIgNu/6OfPe4c27j9SSOB07jv2vzS+DgXMo/W/ab9b83t35b/MNfthWBjyPyFEwK+E2ta/6M+krNqu5L+seqoKcrJ3P5+veTU5S+i/s1wUybI6+L+YwujX0Qm8P4BPQgJy1Oi/PKcHHPZMzr87pkRobu3lPxN3wn4ax+e/Ei3ghLz36r8WXjEXSEkiQDA1hR4wALG/49nLhITzuz8bLYleUpXePy5or0txKOa/nMXFN+v95b9dZIfrZTi6v50Ydh74QPC/WhKyr+fx1T8xABm5Qer7Px0CwBs2pe4/KrSNC5Xr4r+VT3Wluo/5Pzsjbm473ve/HqyDlIuFAMAcz9VIIX7ovzAji+ec0ue/bdDfbCz957/yt3LBS+HQv0KHecMztek/BzRxMcI30r9zziNZyo3lvwAsWeB9Wvu/vir9ntEC6b8wmO2MwsnnvwLahezucJM/jicK9b+V6L8G71MlxCzxv0pWuJy0g6u/mjDV/nwT5b8=\",\"dtype\":\"float64\",\"shape\":[1000]}},\"selected\":{\"id\":\"1132\",\"type\":\"Selection\"},\"selection_policy\":{\"id\":\"1131\",\"type\":\"UnionRenderers\"}},\"id\":\"1120\",\"type\":\"ColumnDataSource\"},{\"attributes\":{},\"id\":\"1018\",\"type\":\"SaveTool\"},{\"attributes\":{},\"id\":\"1076\",\"type\":\"Selection\"},{\"attributes\":{\"active_drag\":\"auto\",\"active_inspect\":\"auto\",\"active_multi\":null,\"active_scroll\":\"auto\",\"active_tap\":\"auto\",\"tools\":[{\"id\":\"1013\",\"type\":\"PanTool\"},{\"id\":\"1014\",\"type\":\"WheelZoomTool\"},{\"id\":\"1015\",\"type\":\"BoxZoomTool\"},{\"id\":\"1016\",\"type\":\"ResetTool\"},{\"id\":\"1017\",\"type\":\"HoverTool\"},{\"id\":\"1018\",\"type\":\"SaveTool\"}]},\"id\":\"1019\",\"type\":\"Toolbar\"},{\"attributes\":{\"fill_color\":{\"value\":\"#1f77b4\"},\"line_color\":{\"value\":\"#1f77b4\"},\"x\":{\"field\":\"x\"},\"y\":{\"field\":\"y\"}},\"id\":\"1030\",\"type\":\"Scatter\"},{\"attributes\":{},\"id\":\"1075\",\"type\":\"UnionRenderers\"},{\"attributes\":{\"source\":{\"id\":\"1028\",\"type\":\"ColumnDataSource\"}},\"id\":\"1033\",\"type\":\"CDSView\"},{\"attributes\":{},\"id\":\"1013\",\"type\":\"PanTool\"},{\"attributes\":{},\"id\":\"1014\",\"type\":\"WheelZoomTool\"},{\"attributes\":{\"bottom_units\":\"screen\",\"fill_alpha\":{\"value\":0.5},\"fill_color\":{\"value\":\"lightgrey\"},\"left_units\":\"screen\",\"level\":\"overlay\",\"line_alpha\":{\"value\":1.0},\"line_color\":{\"value\":\"black\"},\"line_dash\":[4,4],\"line_width\":{\"value\":2},\"plot\":null,\"render_mode\":\"css\",\"right_units\":\"screen\",\"top_units\":\"screen\"},\"id\":\"1021\",\"type\":\"BoxAnnotation\"},{\"attributes\":{\"source\":{\"id\":\"1120\",\"type\":\"ColumnDataSource\"}},\"id\":\"1125\",\"type\":\"CDSView\"},{\"attributes\":{},\"id\":\"1036\",\"type\":\"Selection\"},{\"attributes\":{\"fill_color\":{\"value\":\"#1f77b4\"},\"line_color\":{\"value\":\"#1f77b4\"},\"x\":{\"field\":\"x\"},\"y\":{\"field\":\"y\"}},\"id\":\"1122\",\"type\":\"Scatter\"},{\"attributes\":{\"callback\":null,\"data\":{\"index\":[0,1,2,3,4,5,6,7,8,9,10,11,12,13,14,15,16,17,18,19,20,21,22,23,24,25,26,27,28,29,30,31,32,33,34,35,36,37,38,39,40,41,42,43,44,45,46,47,48,49,50,51,52,53,54,55,56,57,58,59,60,61,62,63,64,65,66,67,68,69,70,71,72,73,74,75,76,77,78,79,80,81,82,83,84,85,86,87,88,89,90,91,92,93,94,95,96,97,98,99,100,101,102,103,104,105,106,107,108,109,110,111,112,113,114,115,116,117,118,119,120,121,122,123,124,125,126,127,128,129,130,131,132,133,134,135,136,137,138,139,140,141,142,143,144,145,146,147,148,149,150,151,152,153,154,155,156,157,158,159,160,161,162,163,164,165,166,167,168,169,170,171,172,173,174,175,176,177,178,179,180,181,182,183,184,185,186,187,188,189,190,191,192,193,194,195,196,197,198,199,200,201,202,203,204,205,206,207,208,209,210,211,212,213,214,215,216,217,218,219,220,221,222,223,224,225,226,227,228,229,230,231,232,233,234,235,236,237,238,239,240,241,242,243,244,245,246,247,248,249,250,251,252,253,254,255,256,257,258,259,260,261,262,263,264,265,266,267,268,269,270,271,272,273,274,275,276,277,278,279,280,281,282,283,284,285,286,287,288,289,290,291,292,293,294,295,296,297,298,299,300,301,302,303,304,305,306,307,308,309,310,311,312,313,314,315,316,317,318,319,320,321,322,323,324,325,326,327,328,329,330,331,332,333,334,335,336,337,338,339,340,341,342,343,344,345,346,347,348,349,350,351,352,353,354,355,356,357,358,359,360,361,362,363,364,365,366,367,368,369,370,371,372,373,374,375,376,377,378,379,380,381,382,383,384,385,386,387,388,389,390,391,392,393,394,395,396,397,398,399,400,401,402,403,404,405,406,407,408,409,410,411,412,413,414,415,416,417,418,419,420,421,422,423,424,425,426,427,428,429,430,431,432,433,434,435,436,437,438,439,440,441,442,443,444,445,446,447,448,449,450,451,452,453,454,455,456,457,458,459,460,461,462,463,464,465,466,467,468,469,470,471,472,473,474,475,476,477,478,479,480,481,482,483,484,485,486,487,488,489,490,491,492,493,494,495,496,497,498,499,500,501,502,503,504,505,506,507,508,509,510,511,512,513,514,515,516,517,518,519,520,521,522,523,524,525,526,527,528,529,530,531,532,533,534,535,536,537,538,539,540,541,542,543,544,545,546,547,548,549,550,551,552,553,554,555,556,557,558,559,560,561,562,563,564,565,566,567,568,569,570,571,572,573,574,575,576,577,578,579,580,581,582,583,584,585,586,587,588,589,590,591,592,593,594,595,596,597,598,599,600,601,602,603,604,605,606,607,608,609,610,611,612,613,614,615,616,617,618,619,620,621,622,623,624,625,626,627,628,629,630,631,632,633,634,635,636,637,638,639,640,641,642,643,644,645,646,647,648,649,650,651,652,653,654,655,656,657,658,659,660,661,662,663,664,665,666,667,668,669,670,671,672,673,674,675,676,677,678,679,680,681,682,683,684,685,686,687,688,689,690,691,692,693,694,695,696,697,698,699,700,701,702,703,704,705,706,707,708,709,710,711,712,713,714,715,716,717,718,719,720,721,722,723,724,725,726,727,728,729,730,731,732,733,734,735,736,737,738,739,740,741,742,743,744,745,746,747,748,749,750,751,752,753,754,755,756,757,758,759,760,761,762,763,764,765,766,767,768,769,770,771,772,773,774,775,776,777,778,779,780,781,782,783,784,785,786,787,788,789,790,791,792,793,794,795,796,797,798,799,800,801,802,803,804,805,806,807,808,809,810,811,812,813,814,815,816,817,818,819,820,821,822,823,824,825,826,827,828,829,830,831,832,833,834,835,836,837,838,839,840,841,842,843,844,845,846,847,848,849,850,851,852,853,854,855,856,857,858,859,860,861,862,863,864,865,866,867,868,869,870,871,872,873,874,875,876,877,878,879,880,881,882,883,884,885,886,887,888,889,890,891,892,893,894,895,896,897,898,899,900,901,902,903,904,905,906,907,908,909,910,911,912,913,914,915,916,917,918,919,920,921,922,923,924,925,926,927,928,929,930,931,932,933,934,935,936,937,938,939,940,941,942,943,944,945,946,947,948,949,950,951,952,953,954,955,956,957,958,959,960,961,962,963,964,965,966,967,968,969,970,971,972,973,974,975,976,977,978,979,980,981,982,983,984,985,986,987,988,989,990,991,992,993,994,995,996,997,998,999],\"words\":[\"logic\",\"dumb\",\"even\",\"crop\",\"name\",\"photo\",\"tsk\",\"put\",\"casper\",\"box\",\"looved\",\"battle\",\"crakkbitch\",\"thanks\",\"sir\",\"trip\",\"lil\",\"mama\",\"keep\",\"doin\",\"ya\",\"thang\",\"visiting\",\"brother\",\"tmr\",\"bestest\",\"birthday\",\"gift\",\"eveerrr\",\"yay\",\"lifecompleted\",\"tweet\",\"facebook\",\"let\",\"know\",\"please\",\"1dnextalbumtitle\",\"feel\",\"rollercoaster\",\"life\",\"song\",\"cocept\",\"yolo\",\"becoming\",\"famous\",\"3\",\"14\",\"followmeplz\",\"x15\",\"workin\",\"hard\",\"hardly\",\"rt\",\"hardee\",\"future\",\"coworker\",\"saw\",\"replying\",\"bit\",\"belong\",\"anddd\",\"cheer\",\"nationals2013\",\"send\",\"invitation\",\"shop\",\"line\",\"find\",\"everything\",\"need\",\"without\",\"leaving\",\"home\",\"woke\",\"finna\",\"go\",\"church\",\"agreed\",\"12\",\"days\",\"left\",\"tho\",\"monet\",\"katemelo\",\"like\",\"dammm\",\"lexis\",\"u\",\"got\",\"lot\",\"say\",\"ur\",\"twitter\",\"lol\",\"grateful\",\"today\",\"dream\",\"fulfilled\",\"heart\",\"full\",\"first\",\"completed\",\"tracks\",\"arrived\",\"back\",\"new\",\"york\",\"yeslord\",\"affairs\",\"shall\",\"later\",\"barca\",\"bout\",\"beat\",\"real\",\"madrid\",\"saturday\",\"doe\",\"parts\",\"asia\",\"especially\",\"rats\",\"live\",\"country\",\"grains\",\"supposed\",\"quite\",\"tasty\",\"sleeping\",\"shut\",\"cho\",\"ole\",\"sleep\",\"lookin\",\"ass\",\"worlds\",\"best\",\"dad\",\"ab\",\"jaeyay\",\"werna\",\"meeting\",\"khatam\",\"hi\",\"hojaeygi\",\"baaqi\",\"ki\",\"buttering\",\"baad\",\"may\",\"karaygay\",\"hum\",\"sab\",\"one\",\"doubts\",\"ability\",\"check\",\"pic\",\"outfit\",\"mid\",\"term\",\"impressed\",\"happy\",\"summer\",\"1\",\"work\",\"10\",\"30\",\"2\",\"ish\",\"shower\",\"eat\",\"till\",\"whenever\",\"nooo\",\"food\",\"friend\",\"16millionbritneyfan\",\"seriously\",\"though\",\"called\",\"vanity\",\"fairest\",\"chloe\",\"ill\",\"teach\",\"yous\",\"cook\",\"pros\",\"end\",\"im\",\"something\",\"chicken\",\"questions\",\"preston\",\"short\",\"nap\",\"mikes\",\"another\",\"hour\",\"answer\",\"q\",\"make\",\"em\",\"original\",\"friday\",\"payday\",\"4\",\"20\",\"hell\",\"yeah\",\"reasons2dothebirdmanhandrub\",\"thank\",\"love\",\"def\",\"get\",\"done\",\"plenty\",\"want\",\"framed\",\"lols\",\"week\",\"thanksss\",\"xxx\",\"ff\",\"good\",\"hilarious\",\"sweet\",\"kind\",\"loves\",\"toilet\",\"paper\",\"always\",\"made\",\"laugh\",\"needed\",\"apparently\",\"quote\",\"moment\",\"cos\",\"else\",\"uncertain\",\"louis\",\"tomlinson\",\"wait\",\"see\",\"notice\",\"follow\",\"bigger\",\"ones\",\"yougetmajorpointsif\",\"olivia\",\"brown\",\"ty\",\"well\",\"would\",\"sister\",\"christ\",\"truly\",\"blessing\",\"kingdom\",\"southall\",\"travel\",\"visit\",\"care\",\"morning\",\"share\",\"friends\",\"blonde\",\"yet\",\"picture\",\"dont\",\"thing\",\"plus\",\"bridge\",\"traffic\",\"japan\",\"nicest\",\"rivers\",\"oh\",\"drawing\",\"based\",\"waiting\",\"knowing\",\"fav\",\"color\",\"seen\",\"ask\",\"annoying\",\"p\",\"haha\",\"ooo\",\"really\",\"17\",\"followers\",\"500\",\"support\",\"ben\",\"kelly\",\"teamjessie\",\"thevoiceuk\",\"thatd\",\"hahah\",\"xx\",\"mr\",\"schmidt\",\"knight\",\"charmer\",\"day\",\"five\",\"gazillion\",\"times\",\"better\",\"probs\",\"hope\",\"going\",\"watching\",\"hehe\",\"bed\",\"night\",\"bbs\",\"front\",\"people\",\"kills\",\"martina\",\"gonna\",\"video\",\"call\",\"maybe\",\"boys\",\"laying\",\"little\",\"cuddle\",\"buddy\",\"tonight\",\"aahh\",\"sorry\",\"ace\",\"zuers\",\"holding\",\"midst\",\"midterms\",\"remember\",\"secret\",\"success\",\"48\",\"half\",\"fellow\",\"twfanmily\",\"member\",\"okay\",\"next\",\"definitely\",\"hanging\",\"figured\",\"mike\",\"situation\",\"jersey\",\"shore\",\"july\",\"4th\",\"fireworks\",\"dude\",\"dident\",\"starts\",\"trying\",\"shit\",\"k\",\"nice\",\"tweets\",\"try\",\"surprised\",\"score\",\"school\",\"girls\",\"hello\",\"thought\",\"proud\",\"face\",\"handed\",\"tear\",\"xoxoxo\",\"smackkk\",\"judge\",\"criticize\",\"says\",\"nothing\",\"umm\",\"duh\",\"told\",\"come\",\"cracow\",\"aww\",\"smurf\",\"talking\",\"lifts\",\"spirits\",\"give\",\"dope\",\"dick\",\"stomach\",\"eyes\",\"rolling\",\"toes\",\"curling\",\"reals\",\"sparking\",\"believe\",\"hall\",\"help\",\"us\",\"trend\",\"jaomikay\",\"kathrynbernardoasmikay\",\"thankyou\",\"cold\",\"40s\",\"fridge\",\"heres\",\"kids\",\"hate\",\"giving\",\"speeches\",\"gunun\",\"sorusu\",\"mind\",\"via\",\"old\",\"enough\",\"long\",\"lost\",\"family\",\"glad\",\"ok\",\"sure\",\"almost\",\"c\",\"nite\",\"meal\",\"cinema\",\"katie\",\"since\",\"bieber\",\"fan\",\"arnt\",\"many\",\"assumed\",\"team\",\"smiles\",\"chikaroo\",\"spanish\",\"every\",\"24\",\"hours\",\"fully\",\"sick\",\"dog\",\"super\",\"sexy\",\"gold\",\"show\",\"ladies\",\"fun\",\"shopping\",\"pleasure\",\"marie\",\"aware\",\"hyena\",\"nitrous\",\"oxide\",\"might\",\"confuse\",\"dm\",\"shindig\",\"x\",\"til\",\"moves\",\"san\",\"antonio\",\"weather\",\"pwede\",\"bang\",\"na\",\"malamig\",\"haist\",\"9\",\"19\",\"time\",\"book\",\"t4\",\"beach\",\"tickets\",\"excited\",\"wow\",\"forgot\",\"difference\",\"omfg\",\"1d\",\"came\",\"die\",\"black\",\"touch\",\"blue\",\"drinking\",\"cause\",\"cute\",\"aight\",\"sweetz\",\"adam\",\"west\",\"think\",\"forgetting\",\"describes\",\"jessica\",\"makes\",\"foreveralone\",\"right\",\"forever\",\"alone\",\"aha\",\"hahahah\",\"r\",\"awake\",\"hahaha\",\"join\",\"insommia\",\"lifeofcallcenter\",\"swiftie\",\"la\",\"whatever\",\"peasant\",\"embarrassing\",\"bet\",\"dadforgottogetkerosine\",\"trending\",\"worldwide\",\"stupidhashtag\",\"fckk\",\"yall\",\"titties\",\"big\",\"dd\",\"wishfulthinking\",\"angels\",\"guard\",\"guide\",\"way\",\"jk\",\"kimmy\",\"wen\",\"muslim\",\"rouninblogs\",\"stickers\",\"shirt\",\"comin\",\"soon\",\"rouninapparel\",\"rounin\",\"design\",\"simply\",\"amazing\",\"deserves\",\"kiss\",\"mhee\",\"slow\",\"blow\",\"mhy\",\"lmao\",\"weird\",\"true\",\"crazy\",\"relate\",\"stuff\",\"smh\",\"zed\",\"msh\",\"aja\",\"lipbalm\",\"salep\",\"kutu\",\"air\",\"miss\",\"nia\",\"yes\",\"hopefully\",\"grad\",\"wanna\",\"buy\",\"stop\",\"wars\",\"bought\",\"wear\",\"psychology\",\"together\",\"problem\",\"babe\",\"dear\",\"subway\",\"date\",\"workflow\",\"omg\",\"making\",\"avant\",\"baby\",\"playlist\",\"closing\",\"welcome\",\"sharing\",\"looking\",\"forward\",\"great\",\"stay\",\"fit\",\"global\",\"b\",\"blacky\",\"alison\",\"story\",\"getting\",\"hee\",\"xoxox\",\"thats\",\"article\",\"writing\",\"poems\",\"pycc\",\"toolive\",\"chad\",\"saying\",\"realthug\",\"lady\",\"streets\",\"freak\",\"sheets\",\"tattoo\",\"talks\",\"emmanuel\",\"mayo\",\"whewww\",\"thingsrkellysingsabout\",\"ready\",\"fa\",\"covers\",\"adventure\",\"laynn\",\"briefs\",\"instagram\",\"never\",\"smoked\",\"bring\",\"mom\",\"magazines\",\"mail\",\"smile\",\"imma\",\"bitch\",\"prom\",\"taken\",\"away\",\"either\",\"win\",\"girl\",\"righthaha\",\"course\",\"still\",\"reassuringly\",\"trotskyist\",\"95\",\"treats\",\"ed\",\"client\",\"baking\",\"woohoo\",\"cuz\",\"waystobeginsex\",\"hella\",\"guy\",\"tell\",\"ck\",\"much\",\"bay\",\"text\",\"could\",\"dance\",\"around\",\"idiot\",\"luke\",\"28\",\"lool\",\"banter\",\"board\",\"practice\",\"awesome\",\"bap\",\"site\",\"slide\",\"thru\",\"1love\",\"lyrics\",\"jus\",\"deffo\",\"certain\",\"kidding\",\"btw\",\"banglorean\",\"appreciative\",\"eddy\",\"hold\",\"excitement\",\"take\",\"jokes\",\"king\",\"shes\",\"meant\",\"queen\",\"ima\",\"icecream\",\"double\",\"strawberry\",\"happens\",\"alot\",\"opportunity\",\"bacon\",\"infused\",\"bourbon\",\"maple\",\"syrup\",\"mexicans\",\"change\",\"lightbulb\",\"juan\",\"joketweet\",\"anyways\",\"everybody\",\"passed\",\"exams\",\"alonee\",\"yess\",\"guess\",\"patient\",\"pays\",\"run\",\"imintoyou\",\"coz\",\"songs\",\"hasnt\",\"blown\",\"army\",\"strong\",\"freedom\",\"writers\",\"advisory\",\"official\",\"lights\",\"btr\",\"already\",\"knew\",\"albanian\",\"fans\",\"guys\",\"jackasses\",\"sometimes\",\"idk\",\"fave\",\"three\",\"shades\",\"red\",\"inlove\",\"ahaha\",\"watch\",\"rock\",\"anybody\",\"kinda\",\"bug\",\"ritika\",\"listen\",\"haters\",\"pay\",\"wannabeees\",\"snooks\",\"mean\",\"allowed\",\"use\",\"promise\",\"god\",\"host\",\"american\",\"band\",\"stand\",\"started\",\"careers\",\"yep\",\"cant\",\"awww\",\"far\",\"early\",\"nicki\",\"minaj\",\"starships\",\"agree\",\"said\",\"sam\",\"wanted\",\"joke\",\"daily\",\"hugs\",\"coming\",\"wish\",\"hotbox\",\"cool\",\"coupla\",\"hits\",\"goood\",\"free\",\"paddy\",\"fucking\",\"sucks\",\"least\",\"despicable\",\"reunion\",\"1dwebstersurfboards\",\"learn\",\"surf\",\"continue\",\"playing\",\"music\",\"knows\",\"avi\",\"look\",\"anime\",\"character\",\"luh\",\"yewww\",\"hoe\",\"seaworld\",\"queensland\",\"belly\",\"button\",\"pierced\",\"yeahhh\",\"indeed\",\"joking\",\"match\",\"beyond\",\"boo\",\"gorgeous\",\"cutie\",\"head\",\"part\",\"turns\",\"ages\",\"important\",\"mine\",\"wale\",\"sounds\",\"yah\",\"reminds\",\"ago\",\"working\",\"means\",\"trashy\",\"daytime\",\"tele\",\"hahahaha\",\"youu\",\"literally\",\"floor\",\"laughing\",\"tomorrow\",\"karma\",\"play\",\"game\",\"luck\",\"whut\",\"nuthin\",\"inspiration\",\"dat\",\"dey\",\"hangin\",\"behavior\",\"feeding\",\"meee\",\"fam\",\"pet\",\"however\",\"cannot\",\"credit\",\"garret\",\"start\",\"using\",\"able\",\"ban\",\"lifted\",\"anything\",\"wrong\",\"sleeps\",\"hittheroadjack\",\"aches\",\"hungry\",\"appears\",\"moot\",\"clearly\",\"late\",\"sounding\",\"killer\",\"hear\",\"body\",\"shake\",\"staage\",\"corner\",\"sammich\",\"weeks\",\"somewhere\",\"ether\",\"yo\",\"bc\",\"hire\",\"hitman\",\"rest\",\"peace\",\"clark\",\"years\",\"underestimate\",\"5am\",\"film\",\"across\",\"canada\",\"ottawa\",\"lots\",\"audition\",\"mybrother\",\"playipad\",\"deaf\",\"havana\",\"welp\",\"huge\",\"failures\",\"wahh\",\"fights\",\"pussies\",\"handle\",\"singing\",\"car\",\"perving\",\"mess\",\"glee\",\"hey\",\"gok\",\"fashion\",\"perfect\",\"liam\",\"class\",\"spending\",\"boyfriend\",\"winning\",\"reason\",\"aw\",\"lew\",\"fantastic\",\"grow\",\"methinks\",\"rage\",\"gingey\",\"worry\",\"turn\",\"frown\",\"upside\",\"conference\",\"boooring\",\"prolly\",\"5\",\"colour\",\"condition\",\"ion\",\"otl\",\"tiring\",\"preparing\",\"things\",\"swimming\",\"track\",\"meet\",\"popping\",\"tv\",\"fall\",\"asleep\",\"goodnight\",\"ninie\",\"segyero\",\"holly\",\"headphones\",\"outside\",\"commons\",\"nah\",\"banged\",\"3hours\",\"revision\",\"kindalethal\",\"hair\",\"normal\",\"weirdo\"],\"x\":{\"__ndarray__\":\"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\",\"dtype\":\"float32\",\"shape\":[1000]},\"y\":{\"__ndarray__\":\"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\",\"dtype\":\"float32\",\"shape\":[1000]}},\"selected\":{\"id\":\"1076\",\"type\":\"Selection\"},\"selection_policy\":{\"id\":\"1075\",\"type\":\"UnionRenderers\"}},\"id\":\"1066\",\"type\":\"ColumnDataSource\"},{\"attributes\":{\"callback\":null,\"data\":{\"index\":[0,1,2,3,4,5,6,7,8,9,10,11,12,13,14,15,16,17,18,19,20,21,22,23,24,25,26,27,28,29,30,31,32,33,34,35,36,37,38,39,40,41,42,43,44,45,46,47,48,49,50,51,52,53,54,55,56,57,58,59,60,61,62,63,64,65,66,67,68,69,70,71,72,73,74,75,76,77,78,79,80,81,82,83,84,85,86,87,88,89,90,91,92,93,94,95,96,97,98,99,100,101,102,103,104,105,106,107,108,109,110,111,112,113,114,115,116,117,118,119,120,121,122,123,124,125,126,127,128,129,130,131,132,133,134,135,136,137,138,139,140,141,142,143,144,145,146,147,148,149,150,151,152,153,154,155,156,157,158,159,160,161,162,163,164,165,166,167,168,169,170,171,172,173,174,175,176,177,178,179,180,181,182,183,184,185,186,187,188,189,190,191,192,193,194,195,196,197,198,199,200,201,202,203,204,205,206,207,208,209,210,211,212,213,214,215,216,217,218,219,220,221,222,223,224,225,226,227,228,229,230,231,232,233,234,235,236,237,238,239,240,241,242,243,244,245,246,247,248,249,250,251,252,253,254,255,256,257,258,259,260,261,262,263,264,265,266,267,268,269,270,271,272,273,274,275,276,277,278,279,280,281,282,283,284,285,286,287,288,289,290,291,292,293,294,295,296,297,298,299,300,301,302,303,304,305,306,307,308,309,310,311,312,313,314,315,316,317,318,319,320,321,322,323,324,325,326,327,328,329,330,331,332,333,334,335,336,337,338,339,340,341,342,343,344,345,346,347,348,349,350,351,352,353,354,355,356,357,358,359,360,361,362,363,364,365,366,367,368,369,370,371,372,373,374,375,376,377,378,379,380,381,382,383,384,385,386,387,388,389,390,391,392,393,394,395,396,397,398,399,400,401,402,403,404,405,406,407,408,409,410,411,412,413,414,415,416,417,418,419,420,421,422,423,424,425,426,427,428,429,430,431,432,433,434,435,436,437,438,439,440,441,442,443,444,445,446,447,448,449,450,451,452,453,454,455,456,457,458,459,460,461,462,463,464,465,466,467,468,469,470,471,472,473,474,475,476,477,478,479,480,481,482,483,484,485,486,487,488,489,490,491,492,493,494,495,496,497,498,499,500,501,502,503,504,505,506,507,508,509,510,511,512,513,514,515,516,517,518,519,520,521,522,523,524,525,526,527,528,529,530,531,532,533,534,535,536,537,538,539,540,541,542,543,544,545,546,547,548,549,550,551,552,553,554,555,556,557,558,559,560,561,562,563,564,565,566,567,568,569,570,571,572,573,574,575,576,577,578,579,580,581,582,583,584,585,586,587,588,589,590,591,592,593,594,595,596,597,598,599,600,601,602,603,604,605,606,607,608,609,610,611,612,613,614,615,616,617,618,619,620,621,622,623,624,625,626,627,628,629,630,631,632,633,634,635,636,637,638,639,640,641,642,643,644,645,646,647,648,649,650,651,652,653,654,655,656,657,658,659,660,661,662,663,664,665,666,667,668,669,670,671,672,673,674,675,676,677,678,679,680,681,682,683,684,685,686,687,688,689,690,691,692,693,694,695,696,697,698,699,700,701,702,703,704,705,706,707,708,709,710,711,712,713,714,715,716,717,718,719,720,721,722,723,724,725,726,727,728,729,730,731,732,733,734,735,736,737,738,739,740,741,742,743,744,745,746,747,748,749,750,751,752,753,754,755,756,757,758,759,760,761,762,763,764,765,766,767,768,769,770,771,772,773,774,775,776,777,778,779,780,781,782,783,784,785,786,787,788,789,790,791,792,793,794,795,796,797,798,799,800,801,802,803,804,805,806,807,808,809,810,811,812,813,814,815,816,817,818,819,820,821,822,823,824,825,826,827,828,829,830,831,832,833,834,835,836,837,838,839,840,841,842,843,844,845,846,847,848,849,850,851,852,853,854,855,856,857,858,859,860,861,862,863,864,865,866,867,868,869,870,871,872,873,874,875,876,877,878,879,880,881,882,883,884,885,886,887,888,889,890,891,892,893,894,895,896,897,898,899,900,901,902,903,904,905,906,907,908,909,910,911,912,913,914,915,916,917,918,919,920,921,922,923,924,925,926,927,928,929,930,931,932,933,934,935,936,937,938,939,940,941,942,943,944,945,946,947,948,949,950,951,952,953,954,955,956,957,958,959,960,961,962,963,964,965,966,967,968,969,970,971,972,973,974,975,976,977,978,979,980,981,982,983,984,985,986,987,988,989,990,991,992,993,994,995,996,997,998,999],\"words\":[\"logic\",\"dumb\",\"even\",\"crop\",\"name\",\"photo\",\"tsk\",\"put\",\"casper\",\"box\",\"looved\",\"battle\",\"crakkbitch\",\"thanks\",\"sir\",\"trip\",\"lil\",\"mama\",\"keep\",\"doin\",\"ya\",\"thang\",\"visiting\",\"brother\",\"tmr\",\"bestest\",\"birthday\",\"gift\",\"eveerrr\",\"yay\",\"lifecompleted\",\"tweet\",\"facebook\",\"let\",\"know\",\"please\",\"1dnextalbumtitle\",\"feel\",\"rollercoaster\",\"life\",\"song\",\"cocept\",\"yolo\",\"becoming\",\"famous\",\"3\",\"14\",\"followmeplz\",\"x15\",\"workin\",\"hard\",\"hardly\",\"rt\",\"hardee\",\"future\",\"coworker\",\"saw\",\"replying\",\"bit\",\"belong\",\"anddd\",\"cheer\",\"nationals2013\",\"send\",\"invitation\",\"shop\",\"line\",\"find\",\"everything\",\"need\",\"without\",\"leaving\",\"home\",\"woke\",\"finna\",\"go\",\"church\",\"agreed\",\"12\",\"days\",\"left\",\"tho\",\"monet\",\"katemelo\",\"like\",\"dammm\",\"lexis\",\"u\",\"got\",\"lot\",\"say\",\"ur\",\"twitter\",\"lol\",\"grateful\",\"today\",\"dream\",\"fulfilled\",\"heart\",\"full\",\"first\",\"completed\",\"tracks\",\"arrived\",\"back\",\"new\",\"york\",\"yeslord\",\"affairs\",\"shall\",\"later\",\"barca\",\"bout\",\"beat\",\"real\",\"madrid\",\"saturday\",\"doe\",\"parts\",\"asia\",\"especially\",\"rats\",\"live\",\"country\",\"grains\",\"supposed\",\"quite\",\"tasty\",\"sleeping\",\"shut\",\"cho\",\"ole\",\"sleep\",\"lookin\",\"ass\",\"worlds\",\"best\",\"dad\",\"ab\",\"jaeyay\",\"werna\",\"meeting\",\"khatam\",\"hi\",\"hojaeygi\",\"baaqi\",\"ki\",\"buttering\",\"baad\",\"may\",\"karaygay\",\"hum\",\"sab\",\"one\",\"doubts\",\"ability\",\"check\",\"pic\",\"outfit\",\"mid\",\"term\",\"impressed\",\"happy\",\"summer\",\"1\",\"work\",\"10\",\"30\",\"2\",\"ish\",\"shower\",\"eat\",\"till\",\"whenever\",\"nooo\",\"food\",\"friend\",\"16millionbritneyfan\",\"seriously\",\"though\",\"called\",\"vanity\",\"fairest\",\"chloe\",\"ill\",\"teach\",\"yous\",\"cook\",\"pros\",\"end\",\"im\",\"something\",\"chicken\",\"questions\",\"preston\",\"short\",\"nap\",\"mikes\",\"another\",\"hour\",\"answer\",\"q\",\"make\",\"em\",\"original\",\"friday\",\"payday\",\"4\",\"20\",\"hell\",\"yeah\",\"reasons2dothebirdmanhandrub\",\"thank\",\"love\",\"def\",\"get\",\"done\",\"plenty\",\"want\",\"framed\",\"lols\",\"week\",\"thanksss\",\"xxx\",\"ff\",\"good\",\"hilarious\",\"sweet\",\"kind\",\"loves\",\"toilet\",\"paper\",\"always\",\"made\",\"laugh\",\"needed\",\"apparently\",\"quote\",\"moment\",\"cos\",\"else\",\"uncertain\",\"louis\",\"tomlinson\",\"wait\",\"see\",\"notice\",\"follow\",\"bigger\",\"ones\",\"yougetmajorpointsif\",\"olivia\",\"brown\",\"ty\",\"well\",\"would\",\"sister\",\"christ\",\"truly\",\"blessing\",\"kingdom\",\"southall\",\"travel\",\"visit\",\"care\",\"morning\",\"share\",\"friends\",\"blonde\",\"yet\",\"picture\",\"dont\",\"thing\",\"plus\",\"bridge\",\"traffic\",\"japan\",\"nicest\",\"rivers\",\"oh\",\"drawing\",\"based\",\"waiting\",\"knowing\",\"fav\",\"color\",\"seen\",\"ask\",\"annoying\",\"p\",\"haha\",\"ooo\",\"really\",\"17\",\"followers\",\"500\",\"support\",\"ben\",\"kelly\",\"teamjessie\",\"thevoiceuk\",\"thatd\",\"hahah\",\"xx\",\"mr\",\"schmidt\",\"knight\",\"charmer\",\"day\",\"five\",\"gazillion\",\"times\",\"better\",\"probs\",\"hope\",\"going\",\"watching\",\"hehe\",\"bed\",\"night\",\"bbs\",\"front\",\"people\",\"kills\",\"martina\",\"gonna\",\"video\",\"call\",\"maybe\",\"boys\",\"laying\",\"little\",\"cuddle\",\"buddy\",\"tonight\",\"aahh\",\"sorry\",\"ace\",\"zuers\",\"holding\",\"midst\",\"midterms\",\"remember\",\"secret\",\"success\",\"48\",\"half\",\"fellow\",\"twfanmily\",\"member\",\"okay\",\"next\",\"definitely\",\"hanging\",\"figured\",\"mike\",\"situation\",\"jersey\",\"shore\",\"july\",\"4th\",\"fireworks\",\"dude\",\"dident\",\"starts\",\"trying\",\"shit\",\"k\",\"nice\",\"tweets\",\"try\",\"surprised\",\"score\",\"school\",\"girls\",\"hello\",\"thought\",\"proud\",\"face\",\"handed\",\"tear\",\"xoxoxo\",\"smackkk\",\"judge\",\"criticize\",\"says\",\"nothing\",\"umm\",\"duh\",\"told\",\"come\",\"cracow\",\"aww\",\"smurf\",\"talking\",\"lifts\",\"spirits\",\"give\",\"dope\",\"dick\",\"stomach\",\"eyes\",\"rolling\",\"toes\",\"curling\",\"reals\",\"sparking\",\"believe\",\"hall\",\"help\",\"us\",\"trend\",\"jaomikay\",\"kathrynbernardoasmikay\",\"thankyou\",\"cold\",\"40s\",\"fridge\",\"heres\",\"kids\",\"hate\",\"giving\",\"speeches\",\"gunun\",\"sorusu\",\"mind\",\"via\",\"old\",\"enough\",\"long\",\"lost\",\"family\",\"glad\",\"ok\",\"sure\",\"almost\",\"c\",\"nite\",\"meal\",\"cinema\",\"katie\",\"since\",\"bieber\",\"fan\",\"arnt\",\"many\",\"assumed\",\"team\",\"smiles\",\"chikaroo\",\"spanish\",\"every\",\"24\",\"hours\",\"fully\",\"sick\",\"dog\",\"super\",\"sexy\",\"gold\",\"show\",\"ladies\",\"fun\",\"shopping\",\"pleasure\",\"marie\",\"aware\",\"hyena\",\"nitrous\",\"oxide\",\"might\",\"confuse\",\"dm\",\"shindig\",\"x\",\"til\",\"moves\",\"san\",\"antonio\",\"weather\",\"pwede\",\"bang\",\"na\",\"malamig\",\"haist\",\"9\",\"19\",\"time\",\"book\",\"t4\",\"beach\",\"tickets\",\"excited\",\"wow\",\"forgot\",\"difference\",\"omfg\",\"1d\",\"came\",\"die\",\"black\",\"touch\",\"blue\",\"drinking\",\"cause\",\"cute\",\"aight\",\"sweetz\",\"adam\",\"west\",\"think\",\"forgetting\",\"describes\",\"jessica\",\"makes\",\"foreveralone\",\"right\",\"forever\",\"alone\",\"aha\",\"hahahah\",\"r\",\"awake\",\"hahaha\",\"join\",\"insommia\",\"lifeofcallcenter\",\"swiftie\",\"la\",\"whatever\",\"peasant\",\"embarrassing\",\"bet\",\"dadforgottogetkerosine\",\"trending\",\"worldwide\",\"stupidhashtag\",\"fckk\",\"yall\",\"titties\",\"big\",\"dd\",\"wishfulthinking\",\"angels\",\"guard\",\"guide\",\"way\",\"jk\",\"kimmy\",\"wen\",\"muslim\",\"rouninblogs\",\"stickers\",\"shirt\",\"comin\",\"soon\",\"rouninapparel\",\"rounin\",\"design\",\"simply\",\"amazing\",\"deserves\",\"kiss\",\"mhee\",\"slow\",\"blow\",\"mhy\",\"lmao\",\"weird\",\"true\",\"crazy\",\"relate\",\"stuff\",\"smh\",\"zed\",\"msh\",\"aja\",\"lipbalm\",\"salep\",\"kutu\",\"air\",\"miss\",\"nia\",\"yes\",\"hopefully\",\"grad\",\"wanna\",\"buy\",\"stop\",\"wars\",\"bought\",\"wear\",\"psychology\",\"together\",\"problem\",\"babe\",\"dear\",\"subway\",\"date\",\"workflow\",\"omg\",\"making\",\"avant\",\"baby\",\"playlist\",\"closing\",\"welcome\",\"sharing\",\"looking\",\"forward\",\"great\",\"stay\",\"fit\",\"global\",\"b\",\"blacky\",\"alison\",\"story\",\"getting\",\"hee\",\"xoxox\",\"thats\",\"article\",\"writing\",\"poems\",\"pycc\",\"toolive\",\"chad\",\"saying\",\"realthug\",\"lady\",\"streets\",\"freak\",\"sheets\",\"tattoo\",\"talks\",\"emmanuel\",\"mayo\",\"whewww\",\"thingsrkellysingsabout\",\"ready\",\"fa\",\"covers\",\"adventure\",\"laynn\",\"briefs\",\"instagram\",\"never\",\"smoked\",\"bring\",\"mom\",\"magazines\",\"mail\",\"smile\",\"imma\",\"bitch\",\"prom\",\"taken\",\"away\",\"either\",\"win\",\"girl\",\"righthaha\",\"course\",\"still\",\"reassuringly\",\"trotskyist\",\"95\",\"treats\",\"ed\",\"client\",\"baking\",\"woohoo\",\"cuz\",\"waystobeginsex\",\"hella\",\"guy\",\"tell\",\"ck\",\"much\",\"bay\",\"text\",\"could\",\"dance\",\"around\",\"idiot\",\"luke\",\"28\",\"lool\",\"banter\",\"board\",\"practice\",\"awesome\",\"bap\",\"site\",\"slide\",\"thru\",\"1love\",\"lyrics\",\"jus\",\"deffo\",\"certain\",\"kidding\",\"btw\",\"banglorean\",\"appreciative\",\"eddy\",\"hold\",\"excitement\",\"take\",\"jokes\",\"king\",\"shes\",\"meant\",\"queen\",\"ima\",\"icecream\",\"double\",\"strawberry\",\"happens\",\"alot\",\"opportunity\",\"bacon\",\"infused\",\"bourbon\",\"maple\",\"syrup\",\"mexicans\",\"change\",\"lightbulb\",\"juan\",\"joketweet\",\"anyways\",\"everybody\",\"passed\",\"exams\",\"alonee\",\"yess\",\"guess\",\"patient\",\"pays\",\"run\",\"imintoyou\",\"coz\",\"songs\",\"hasnt\",\"blown\",\"army\",\"strong\",\"freedom\",\"writers\",\"advisory\",\"official\",\"lights\",\"btr\",\"already\",\"knew\",\"albanian\",\"fans\",\"guys\",\"jackasses\",\"sometimes\",\"idk\",\"fave\",\"three\",\"shades\",\"red\",\"inlove\",\"ahaha\",\"watch\",\"rock\",\"anybody\",\"kinda\",\"bug\",\"ritika\",\"listen\",\"haters\",\"pay\",\"wannabeees\",\"snooks\",\"mean\",\"allowed\",\"use\",\"promise\",\"god\",\"host\",\"american\",\"band\",\"stand\",\"started\",\"careers\",\"yep\",\"cant\",\"awww\",\"far\",\"early\",\"nicki\",\"minaj\",\"starships\",\"agree\",\"said\",\"sam\",\"wanted\",\"joke\",\"daily\",\"hugs\",\"coming\",\"wish\",\"hotbox\",\"cool\",\"coupla\",\"hits\",\"goood\",\"free\",\"paddy\",\"fucking\",\"sucks\",\"least\",\"despicable\",\"reunion\",\"1dwebstersurfboards\",\"learn\",\"surf\",\"continue\",\"playing\",\"music\",\"knows\",\"avi\",\"look\",\"anime\",\"character\",\"luh\",\"yewww\",\"hoe\",\"seaworld\",\"queensland\",\"belly\",\"button\",\"pierced\",\"yeahhh\",\"indeed\",\"joking\",\"match\",\"beyond\",\"boo\",\"gorgeous\",\"cutie\",\"head\",\"part\",\"turns\",\"ages\",\"important\",\"mine\",\"wale\",\"sounds\",\"yah\",\"reminds\",\"ago\",\"working\",\"means\",\"trashy\",\"daytime\",\"tele\",\"hahahaha\",\"youu\",\"literally\",\"floor\",\"laughing\",\"tomorrow\",\"karma\",\"play\",\"game\",\"luck\",\"whut\",\"nuthin\",\"inspiration\",\"dat\",\"dey\",\"hangin\",\"behavior\",\"feeding\",\"meee\",\"fam\",\"pet\",\"however\",\"cannot\",\"credit\",\"garret\",\"start\",\"using\",\"able\",\"ban\",\"lifted\",\"anything\",\"wrong\",\"sleeps\",\"hittheroadjack\",\"aches\",\"hungry\",\"appears\",\"moot\",\"clearly\",\"late\",\"sounding\",\"killer\",\"hear\",\"body\",\"shake\",\"staage\",\"corner\",\"sammich\",\"weeks\",\"somewhere\",\"ether\",\"yo\",\"bc\",\"hire\",\"hitman\",\"rest\",\"peace\",\"clark\",\"years\",\"underestimate\",\"5am\",\"film\",\"across\",\"canada\",\"ottawa\",\"lots\",\"audition\",\"mybrother\",\"playipad\",\"deaf\",\"havana\",\"welp\",\"huge\",\"failures\",\"wahh\",\"fights\",\"pussies\",\"handle\",\"singing\",\"car\",\"perving\",\"mess\",\"glee\",\"hey\",\"gok\",\"fashion\",\"perfect\",\"liam\",\"class\",\"spending\",\"boyfriend\",\"winning\",\"reason\",\"aw\",\"lew\",\"fantastic\",\"grow\",\"methinks\",\"rage\",\"gingey\",\"worry\",\"turn\",\"frown\",\"upside\",\"conference\",\"boooring\",\"prolly\",\"5\",\"colour\",\"condition\",\"ion\",\"otl\",\"tiring\",\"preparing\",\"things\",\"swimming\",\"track\",\"meet\",\"popping\",\"tv\",\"fall\",\"asleep\",\"goodnight\",\"ninie\",\"segyero\",\"holly\",\"headphones\",\"outside\",\"commons\",\"nah\",\"banged\",\"3hours\",\"revision\",\"kindalethal\",\"hair\",\"normal\",\"weirdo\"],\"x\":{\"__ndarray__\":\"cHAkP1spgUDkfJxBtL7RwUb5kUFWRn9APAibwZ3hnj8iqOrBwCEqQDfzGsIsP1hAsjMXwsgKxr/KuAdA1abbQVaEg0Gq/FNAb+UAQS+WlUB8co9BYg0Fwb19V8FSMp5A4KTBwGCIcMEubaZBhIZaQP7WJcLQJtlBMwknwjWCjkE13YpBVkjBQbWdMUFi3mtBbPYCwlPJe0AMNgHCaNotQctMZEFKihPCuZAdQG1iJMDqColA9JVOQPgigUDzhAzCkIINwmawdsGLZTtArqQMwZpmhkHVaw3CjdssQcwE5sEb7WpBDHNgwU1wz0AAK5fB2xXPwUK2JEGPxybC9WSCQUi3j8H/VInA+qEEQER8dEE74sZAnBfPQUI3JkCKRtlB89XvQbaR+EGbCSI/BPLhv8iTHEGRAOTAvZugQJy690F7wOVBq2t7Qb3oqcGHtRrCUUXrQAquHML6XhzCyPuXQeXh4UE2pClBf691QewelUErEZBB7bR/QSJXwMC2jPBBVhKBQYySAMJ6QqtAEk4UQf4izUEzJ8HBm2EFQLssasBya8FBSOBfQVd57ECsyRfCvsWawTQFn0DRJsxBkjvHP6UZn0Fn6/w//JXYQJ2dnsDsjeRB+5dCQJwo4T/jhV5A/qwEQeahCMIs0I9BaVFVQXTtsMG7CHBAUCTsQK6EcMHMKAdBX06PQSPSBsJomYDBMqIEQk6liL+n75RBBjjNP3wwO0GNsJNBrZ8CwagJGMJ6hBfCqTUqQX8bEMI2CmBBgi0Owqi5CsLJ3A/BsNAJwjYaC8J8UllBfRkMwqaXxcEP7AXCuaG/Qao+LMJ39SzBCYCFQWGlm0F7XufAZFuMv8Ek2z7EXpPBMM+mQe4y20HpznZAXJLmQUzepEAfQbpAmoyFQDlb8MDgefdAkPPcvhh41kFLOlU/B7VPQVL67L8NApRBk68mwqzbEkEWJyZB4Qg2QWk+zMEE9CbCXmmdwSuwxkEXlRk/HKxSwS24T78F9ebBaezNQTEpdkGOMalBTnVywDMtsz8Hc/jBo2cPQemN7UCmwxTC5t3HQSDy8kEY+3xBKYx/PrBnXEFuJ5VBJVSrQJYq50GOzrfBSX+hQKjqzkCdk29BuF89QeVoL8IDhse/X2xzQXSoAUBF2+NBSKbMQY3Hr8DEic1BdCbLwXFNjsElfv5BG2RVwUWJREGumCZBPE6uQUEBlEDE7RRBafYUQcTfbUFWGdPAxz5vPVrlyUDZPU5Bc7iAQMrh5EBEfjFA1Q1+wJoFQ0HgBkFB+eZ+QThL98FDY2RBKegBwnVZn8Dv14ZBt9aCQTfWiEH6DaPATTO+QGbwgEBMqq7BwUQvvhM/Pb4dnztB4R3OQVH4j0HfACS/gBl+QNYZlD/UQgHBMbUZwsy50UBHw2JBpoCiQPEqAEJ5JYxBf36NQYUXM8H6QsNBtsOfQa+apkHLj6hADNVWwM5/JMCrTEPALRX/P4aFgsHYMcrBEAxiQWYOSr+OBdZA5ibKQWd200AsRrdApHCTPj2LUEGU5YFBy48SQTkzccC/RjxBSGplQGtjA0Gek4tA9oGIQagVZUCNwUFBzM2/PxcK6L93KRLC7ai0wasWIsKEEz1BtjVFQXVbakAx9BPCEAANwYCjFMJJFQJCRKQOQSAIF8LcyeZBCybMQAhq68CAf8hBC43XQVsYi0FMAHNB/aIEQs9+AEK3R/fBbwqKwMWqrkDawxDB7Voswi/L1kGJMHZBRV+ZQVbjvkHtj5JB7FJCwP10xsDP7nw9lG68QBW840Ea6BjCmiFSQeL8k8Am2R/Cli6aQCtz3sFEsRLCwtdMQd50uUDGYZNA1A83QNQB60Gx55vAV8X5wdOdI0CReElBH1HWQYr4RUFCr0dAKogTwfv0GT8cNcbA6Ch1v5CoJ8GY2QRB7Yhmv2JB6MGRsi9Bcw0bwlP+DEEzucNB1VSQQRhDsD0vW6tB+q6TQSjotEFZo/vA/wXyQHeS60HxCZRBeO9jQaz2gUEj6qZBtO2qP9UPdcETSf+/LIy8wbsVKMJn0p7A0Gsywu+iWkGUpMRAe8UNwXZRD8Gf7YlB7cCGwOMUI8IkxXFB2FPVwT4BHkEPNtDB8OUQwbTOg0FFlBvAi3WhQEnQDEBHXLQ/ADb+vx67DsG+193BQ6Ykwnh6DcIMtpNBJgXDwBx4eUERNWJBIYJjQQjxFcJnkxbC9vAaQRb3BEE1bQjCc4uVweCjbMGvo3hAe8YNQZUTI0FgJ/TBV0ofwiVGHsJL8FpBsSZvQRoXxUGLwLJBAdDVQca+xEHQKTdBbbOpQVsETkGSRk9BoRjkQTwUWb+14+ZAD+FLwQfWk8Chj4PB1brhQeD/V0F2rFlBJh4NwpbgtkGSU+LBlMdDQSMp4cADqiXC+k7cQBymy0FqFJFAY4z3QRgC4j5ZA9dAol2EwKFfhkB4SDZAcPEGP4i3X0FXvD9AvwKVQVRYBkGmG6Y/G+iNwSyycME1EA3CWG8Fwmr8icEaR8JByUD9wUchhUFGow7CwE6yQAs41kHwNJPA2YajQHjwpsHPKRdBfWPVwcLL/r6FlNFAHyIbwodOHcIG+qdAF7lzQAQXAEIlURlBHfUcwnrKCEEQR2ZBAl+VwFT1aEE9f0VBHxJQwGjYMkC2DIZBRNvcQf8wIz+hkaO9lJC7v0EA/D3/FELADSCYQVfTNEDCgdLB7jcxwsh20z/kTqRAfjCLQQiYbsF2UcO+aT8tQLguVEGEJMTBzB8EQUfvjUF/0hU+XWk2Qcf5VEDrhR+/ugJkQBboUUGBQGZBBcwswlVOKcIGtLPBjwqUQGyfHEEExfvBYuUJwabjLkH91iPCcupdQfgtTz8TOyXCvZchwv6WiUHgxpfBc9TBwMT0/sBMbAHCdaMgwH2uE8AujBhBO1OoQR3SKUGY7BHCoDs3QFRYLMGSMyLCdTiRwWbaN8A0//zApzDHQSRTKsKkCyrCQ9i3QNrjQD5NAK5BNkwsQPOuIkBXpALCodBdQHqRr0DY4BXCoh+GQf4/D0H+QH9BkMoZQesQecF6UdJANquGQb7lCcIojczBrl+VwRNuBsL1jwnCN5kJwihSpj6URZpBdMfJwaGDWEHLAs9BTfmKwT/yzEGxeCTA+7YjQXNpf0CsJAFBC7SOvtWfjj6GVaxBXKRBQZCBf0EwcDBBI5U8weHdXUGugvnBTb5GQamATEFBhx/CQfquQCOojsG+fobB93wuQY2ylj9w1p1Aaeq7QfK8r0F1EkS/G4UKwK56n0BVb2W/n/ggwkSGx8EK0hJBurrjQeEgIsGj5rnB8ntTQYyylkC8O9xAlEdMvZEHE8KV9QzCuXzNwQ7ZT0FthyPC1YGQQLkihL7jDdc/cHJawDWZuMAW3ltAbRUKwhM708F82hzCQ84uwiYR1EHhOe/Au3uKPxX74kAb7BrChoeHwbnLb0EqsadBsxBmwbVICsARbJRB8+vGwRBoosCbJIhAm+mhQci+kEF+krFBks4pQfEUuEEtmEhB/rhqQbp7hUCgyTHC8M78QNNyu0HwaxnCCBoQwlWJm8A3RYLBdlkfQJoqEMFuhhbAfrZQwQzbiEEH4prB/zGav3HHn0BX/oJBnCEqwQ5kLkG0gVm/kJ+ZQUYczkGk53xBPe4jQUU0tcBlxK3ARFJpQDAWx0DGS43BuIMCQIPMJkF+zK5BxQUHwogVyT/8OefApmZiv+J+BMLATohAKd6MQZNxlsEz9q7AYmsjQc6AH0EN6CfCrdEUwoV/G8LGvgY/2R2LwRX1GsDCTuM/18eoQAEQAEGYFSNB/dBpQK/0okFN543BGNTRPTk45b/1yxVBXA0WQbWtLcBejgzADvjLwZzwBMJse4nB8zy5wUTjAsIHhlxB5dHowbSLtcE80RfCczl6QOAeCEEQ/xJB7XfZQZXnAcLqk3JALAi8QQZaHMEebHHBYAUWQX+sFsJX0cs/IYpZQcMjlcFQhpDBcnxOPxZOvUAmoqo/qaYiP/Hd7sGdjG1BEvpjwAVbsMEndcFBDo5rQXE9K8Kbd3dBeY6HQaPYKsLbms5AuFVFQbImbEDhDxVB0bbLwSZcYT3DKoXBqq6FQNdBfkE07kVALOdzPnj8EEG/KeHAnL0jwqPsakHd7YjAzwevv1I4GsJHjBDCQgpoQeqcG0C/7APB6MCfQM8RQkF9RB3BWqsNQQWmQUH5XATAg2DEQVGQ1ME7hQRBDMGyQWsCc0FcOatBjN3yQY6rIsA7PE3AblGhwX4tKUFLL4ZBsPTsPYDnxUGy8BpBCpV4QBFYA0E59ovAau+nQU33CsIoTitBv0UHwuQvKUCLId9AEQ5dwKuUIcLC9hdBPVI7QVNttkFpGyzCjbJXwaJoAsK+MxlBI4aFwABFYMAmp45BO3JmQXDsP0EZZdhA0eUlQJPDvcFA6Ay/efeZwXkzIcKXBFxAuiAhwgJ+BsIGuN6/nzpLQXoDg8HKJAbB64gZvub8DsFdTAFBw2S1QHT9gUHfBw1BdG/BPtHlpcAqGyNBr4i7wNTV6UDCA7hAAgtUQedx3MGeh65AamICvwMul0AululBX0LfQTQ+JEEHYMPBjAoBwi/IEcJqlCpBtH8IQYQV10CzNzm+rPrwQFA96UF7MwfBTiN+QS0/bUFGkzVBPAUjwjHl/sHrH+M/IiiJQSOqJMF9ZNDB/dCiwS03EsHgFG9BTNQlQHtzJL/bOMNAgBqbQH+UgsAmhS/CZEbPQYLMpT9GB8RBtCCawcV3z8HyLahBWvRXQaJlxcESZhrC9d7YwUD7EECUD5jBCh4owlKL28DFUfJBaiatP5fPP8C1Z11BGUCgwGkw08BW8R3CFZmJwHwfHcJDbfdBAr4xQEf/A8KV+45Bw4dEQGt+HsGq7CnCKWnKQQhNrUB93mW/z670QRLzEsJhS9DBRFXeQB7jJkCPugXA80Cbwbe+BEGkwMnBVSsgwrGNH8Irq8/BDYbywfNFlMEsxV1BSBwdwpRmDsH4IL/Bfs4PwtwhBcB2MVlBS9zvQBhUMcKjPne8GSyFwGqpdEGMFyHC2FVGQN5AGUG+ZHZB2xPpQQbAFUGqqYxBqjbUQPhc7EDl+HBBilIFwvMfa0C2Yay+gh3+wf7JhMEzjyDCTudLQZbej78b86rBkNMmwZWH7sBO+RLCK8wZwR69kEAptAXBFx2HwURvdsDFIv/BaeyWwe64P8FOKrVA0kY9QNw7GkHjroVBhlPOwVpsP0FJ42o/QGBOP5z4gkFzGRbC9bQVwlAXjcETe+i/3WwUQU958MH+WSxBAOEMwtEPGcI8ocbAFBoiwnBGez6S+oLAzz8uwQ==\",\"dtype\":\"float32\",\"shape\":[1000]},\"y\":{\"__ndarray__\":\"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\",\"dtype\":\"float32\",\"shape\":[1000]}},\"selected\":{\"id\":\"1036\",\"type\":\"Selection\"},\"selection_policy\":{\"id\":\"1035\",\"type\":\"UnionRenderers\"}},\"id\":\"1028\",\"type\":\"ColumnDataSource\"},{\"attributes\":{\"data_source\":{\"id\":\"1066\",\"type\":\"ColumnDataSource\"},\"glyph\":{\"id\":\"1068\",\"type\":\"Scatter\"},\"hover_glyph\":null,\"muted_glyph\":null,\"nonselection_glyph\":{\"id\":\"1069\",\"type\":\"Scatter\"},\"selection_glyph\":null,\"view\":{\"id\":\"1071\",\"type\":\"CDSView\"}},\"id\":\"1070\",\"type\":\"GlyphRenderer\"},{\"attributes\":{\"plot\":null,\"text\":\"A Plot of 5000 Word Vectors\"},\"id\":\"1002\",\"type\":\"Title\"},{\"attributes\":{\"callback\":null},\"id\":\"1005\",\"type\":\"DataRange1d\"},{\"attributes\":{},\"id\":\"1131\",\"type\":\"UnionRenderers\"},{\"attributes\":{},\"id\":\"1132\",\"type\":\"Selection\"},{\"attributes\":{\"fill_color\":{\"value\":\"#1f77b4\"},\"line_color\":{\"value\":\"#1f77b4\"},\"x\":{\"field\":\"x\"},\"y\":{\"field\":\"y\"}},\"id\":\"1068\",\"type\":\"Scatter\"},{\"attributes\":{\"callback\":null},\"id\":\"1007\",\"type\":\"DataRange1d\"},{\"attributes\":{\"fill_alpha\":{\"value\":0.1},\"fill_color\":{\"value\":\"#1f77b4\"},\"line_alpha\":{\"value\":0.1},\"line_color\":{\"value\":\"#1f77b4\"},\"x\":{\"field\":\"x\"},\"y\":{\"field\":\"y\"}},\"id\":\"1031\",\"type\":\"Scatter\"},{\"attributes\":{},\"id\":\"1009\",\"type\":\"LinearScale\"},{\"attributes\":{},\"id\":\"1011\",\"type\":\"LinearScale\"},{\"attributes\":{\"fill_alpha\":{\"value\":0.1},\"fill_color\":{\"value\":\"#1f77b4\"},\"line_alpha\":{\"value\":0.1},\"line_color\":{\"value\":\"#1f77b4\"},\"x\":{\"field\":\"x\"},\"y\":{\"field\":\"y\"}},\"id\":\"1069\",\"type\":\"Scatter\"},{\"attributes\":{\"overlay\":{\"id\":\"1021\",\"type\":\"BoxAnnotation\"}},\"id\":\"1015\",\"type\":\"BoxZoomTool\"},{\"attributes\":{\"fill_alpha\":{\"value\":0.1},\"fill_color\":{\"value\":\"#1f77b4\"},\"line_alpha\":{\"value\":0.1},\"line_color\":{\"value\":\"#1f77b4\"},\"x\":{\"field\":\"x\"},\"y\":{\"field\":\"y\"}},\"id\":\"1123\",\"type\":\"Scatter\"},{\"attributes\":{},\"id\":\"1035\",\"type\":\"UnionRenderers\"},{\"attributes\":{\"data_source\":{\"id\":\"1028\",\"type\":\"ColumnDataSource\"},\"glyph\":{\"id\":\"1030\",\"type\":\"Scatter\"},\"hover_glyph\":null,\"muted_glyph\":null,\"nonselection_glyph\":{\"id\":\"1031\",\"type\":\"Scatter\"},\"selection_glyph\":null,\"view\":{\"id\":\"1033\",\"type\":\"CDSView\"}},\"id\":\"1032\",\"type\":\"GlyphRenderer\"},{\"attributes\":{\"source\":{\"id\":\"1066\",\"type\":\"ColumnDataSource\"}},\"id\":\"1071\",\"type\":\"CDSView\"},{\"attributes\":{\"data_source\":{\"id\":\"1120\",\"type\":\"ColumnDataSource\"},\"glyph\":{\"id\":\"1122\",\"type\":\"Scatter\"},\"hover_glyph\":null,\"muted_glyph\":null,\"nonselection_glyph\":{\"id\":\"1123\",\"type\":\"Scatter\"},\"selection_glyph\":null,\"view\":{\"id\":\"1125\",\"type\":\"CDSView\"}},\"id\":\"1124\",\"type\":\"GlyphRenderer\"},{\"attributes\":{},\"id\":\"1016\",\"type\":\"ResetTool\"},{\"attributes\":{\"callback\":null,\"tooltips\":[[\"word\",\"@words\"]]},\"id\":\"1017\",\"type\":\"HoverTool\"}],\"root_ids\":[\"1003\"]},\"title\":\"Bokeh Application\",\"version\":\"1.0.4\"}};\n",
       "  var render_items = [{\"docid\":\"a62e8784-88f1-440e-aa7f-4c4764e688dc\",\"roots\":{\"1003\":\"eb0366c1-859d-4b40-aca8-c4ad78e3a0a1\"}}];\n",
       "  root.Bokeh.embed.embed_items_notebook(docs_json, render_items);\n",
       "\n",
       "  }\n",
       "  if (root.Bokeh !== undefined) {\n",
       "    embed_document(root);\n",
       "  } else {\n",
       "    var attempts = 0;\n",
       "    var timer = setInterval(function(root) {\n",
       "      if (root.Bokeh !== undefined) {\n",
       "        embed_document(root);\n",
       "        clearInterval(timer);\n",
       "      }\n",
       "      attempts++;\n",
       "      if (attempts > 100) {\n",
       "        console.log(\"Bokeh: ERROR: Unable to run BokehJS code because BokehJS library is missing\");\n",
       "        clearInterval(timer);\n",
       "      }\n",
       "    }, 10, root)\n",
       "  }\n",
       "})(window);"
      ],
      "application/vnd.bokehjs_exec.v0+json": ""
     },
     "metadata": {
      "application/vnd.bokehjs_exec.v0+json": {
       "id": "1003"
      }
     },
     "output_type": "display_data"
    }
   ],
   "source": [
    "# Corresponding word appears when you hover on the data point.\n",
    "plot_chart.scatter(x='x', y='y', source=pca_df)\n",
    "hover = plot_chart.select(dict(type=HoverTool))\n",
    "hover.tooltips={\"word\": \"@words\"}\n",
    "show(plot_chart)"
   ]
  },
  {
   "cell_type": "code",
   "execution_count": 23,
   "metadata": {},
   "outputs": [],
   "source": [
    "#Save word embedding model\n",
    "model_file = 'Datasets/word2vec_embedding.csv'\n",
    "model.wv.save_word2vec_format(model_file, binary=False)"
   ]
  },
  {
   "cell_type": "markdown",
   "metadata": {},
   "source": [
    "# Classifying Practise"
   ]
  },
  {
   "cell_type": "code",
   "execution_count": 21,
   "metadata": {},
   "outputs": [],
   "source": [
    "from sklearn.feature_extraction.text import CountVectorizer\n",
    "from sklearn.feature_extraction.text import TfidfTransformer\n",
    "from sklearn.linear_model import LogisticRegression\n",
    "from sklearn.pipeline import Pipeline\n",
    "from sklearn.model_selection import train_test_split"
   ]
  },
  {
   "cell_type": "code",
   "execution_count": 33,
   "metadata": {},
   "outputs": [],
   "source": [
    "lr = LogisticRegression(penalty='l2', C=.8, random_state=21)\n",
    "\n",
    "text_classifier = Pipeline([\n",
    "    ('vectorizer', CountVectorizer(binary=False, stop_words='english', ngram_range=(1,2))),\n",
    "    ('tfidf', TfidfTransformer(use_idf=True)),\n",
    "    ('clf', lr),\n",
    "#     ('clf', SGDClassifier()), #by default, this is SVM\n",
    "])"
   ]
  },
  {
   "cell_type": "code",
   "execution_count": 34,
   "metadata": {},
   "outputs": [
    {
     "data": {
      "text/plain": [
       "Pipeline(memory=None,\n",
       "     steps=[('vectorizer', CountVectorizer(analyzer='word', binary=False, decode_error='strict',\n",
       "        dtype=<class 'numpy.int64'>, encoding='utf-8', input='content',\n",
       "        lowercase=True, max_df=1.0, max_features=None, min_df=1,\n",
       "        ngram_range=(1, 2), preprocessor=None, stop_words='english',\n",
       "  ..., penalty='l2', random_state=21, solver='warn',\n",
       "          tol=0.0001, verbose=0, warm_start=False))])"
      ]
     },
     "execution_count": 34,
     "metadata": {},
     "output_type": "execute_result"
    }
   ],
   "source": [
    "X_train, X_test, y_train, y_test = train_test_split(data.Tweet, data.Sentiment, test_size=0.35, random_state=4)\n",
    "\n",
    "text_classifier.fit(X_train, y_train)"
   ]
  },
  {
   "cell_type": "code",
   "execution_count": 35,
   "metadata": {},
   "outputs": [],
   "source": [
    "predicted_test = text_classifier.predict(X_test)\n",
    "predicted_proba_test = text_classifier.predict_proba(X_test)"
   ]
  },
  {
   "cell_type": "code",
   "execution_count": 36,
   "metadata": {},
   "outputs": [
    {
     "name": "stdout",
     "output_type": "stream",
     "text": [
      "              precision    recall  f1-score   support\n",
      "\n",
      "          -1       0.89      0.86      0.88     65073\n",
      "           1       0.87      0.90      0.88     64925\n",
      "\n",
      "   micro avg       0.88      0.88      0.88    129998\n",
      "   macro avg       0.88      0.88      0.88    129998\n",
      "weighted avg       0.88      0.88      0.88    129998\n",
      "\n"
     ]
    },
    {
     "data": {
      "text/plain": [
       "array([[56016,  9057],\n",
       "       [ 6729, 58196]])"
      ]
     },
     "execution_count": 36,
     "metadata": {},
     "output_type": "execute_result"
    }
   ],
   "source": [
    "from sklearn import metrics\n",
    "\n",
    "predicted_train = text_classifier.predict(X_train)\n",
    "\n",
    "y_train = y_train.astype('category')\n",
    "print(metrics.classification_report(y_train, predicted_train,\n",
    "    labels=y_train.cat.categories.tolist()))\n",
    "\n",
    "metrics.confusion_matrix(y_train, predicted_train)"
   ]
  },
  {
   "cell_type": "code",
   "execution_count": 37,
   "metadata": {},
   "outputs": [
    {
     "name": "stdout",
     "output_type": "stream",
     "text": [
      "              precision    recall  f1-score   support\n",
      "\n",
      "          -1       0.81      0.77      0.79     34926\n",
      "           1       0.78      0.82      0.80     35074\n",
      "\n",
      "   micro avg       0.80      0.80      0.80     70000\n",
      "   macro avg       0.80      0.80      0.80     70000\n",
      "weighted avg       0.80      0.80      0.80     70000\n",
      "\n"
     ]
    },
    {
     "data": {
      "text/plain": [
       "array([[26990,  7936],\n",
       "       [ 6282, 28792]])"
      ]
     },
     "execution_count": 37,
     "metadata": {},
     "output_type": "execute_result"
    }
   ],
   "source": [
    "predicted_test = text_classifier.predict(X_test)\n",
    "\n",
    "y_test = y_test.astype('category')\n",
    "print(metrics.classification_report(y_test, predicted_test,\n",
    "    labels=y_test.cat.categories.tolist()))\n",
    "\n",
    "metrics.confusion_matrix(y_test, predicted_test)"
   ]
  },
  {
   "cell_type": "code",
   "execution_count": null,
   "metadata": {},
   "outputs": [],
   "source": []
  }
 ],
 "metadata": {
  "kernelspec": {
   "display_name": "Python 3",
   "language": "python",
   "name": "python3"
  },
  "language_info": {
   "codemirror_mode": {
    "name": "ipython",
    "version": 3
   },
   "file_extension": ".py",
   "mimetype": "text/x-python",
   "name": "python",
   "nbconvert_exporter": "python",
   "pygments_lexer": "ipython3",
   "version": "3.7.3"
  }
 },
 "nbformat": 4,
 "nbformat_minor": 2
}
